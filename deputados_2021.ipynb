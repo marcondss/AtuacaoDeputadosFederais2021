{
 "cells": [
  {
   "cell_type": "markdown",
   "id": "7800238d",
   "metadata": {},
   "source": [
    "# Lembrar de adicionar títulos e comentários\n",
    "Esta é a primeira etapa para que seja possível o estudo sobre as propostas legislartivas em relação ao deputados de 2021.\n",
    "Foi feito um Web Scraping para acessar as informações necessárias. Utilizando o requests foi possível acessar o site (https://dadosabertos.camara.leg.br/api/v2/deputados?ordem=ASC&ordenarPor=nome) da camara e tranformar os dados em json. Depois, foram criadas listas com informações sobre os deputados, como, NOME, ID, PARTIDO e UF.\\\n",
    "A lista mais importante é a de ID, pois ela será usada no código para que seja possível a extração dos dados sobre a atuação de cada deputado.\n",
    "Depois, utilizando o 'selenium', foi possível fazer um drive e criar o código para a extração dos dados necessários.\n",
    "\n"
   ]
  },
  {
   "cell_type": "markdown",
   "id": "78671832",
   "metadata": {},
   "source": [
    "# Indice\n",
    " 1 - Bibliotecas importadas \\\n",
    " 2 - Coleta de dados sobre os deputados (extração de ID) \\\n",
    " 3 - Coleta de dados sobre os deputados (atuação dos deputados)"
   ]
  },
  {
   "cell_type": "markdown",
   "id": "bf56f662",
   "metadata": {},
   "source": [
    "## 1 - Bibliotecas Importadas\n",
    "\n",
    "Estas foram as bilbiotecas utilizadas para a extração, tratamento e análise dos dados."
   ]
  },
  {
   "cell_type": "code",
   "execution_count": 1,
   "id": "91eb15cf",
   "metadata": {},
   "outputs": [],
   "source": [
    "import requests\n",
    "from bs4 import BeautifulSoup\n",
    "from urllib.request import urlopen\n",
    "import selenium \n",
    "import pandas as pd\n",
    "import seaborn as sns \n",
    "import matplotlib.pyplot as plt\n",
    "from selenium import webdriver\n",
    "from selenium.webdriver.chrome.options import Options\n",
    "from selenium.webdriver.common.by import By\n",
    "import time"
   ]
  },
  {
   "cell_type": "markdown",
   "id": "0911c61c",
   "metadata": {},
   "source": [
    "## 2 - Coleta de dados sobre os deputados (extração de ID)"
   ]
  },
  {
   "cell_type": "code",
   "execution_count": 2,
   "id": "c5cc60ff",
   "metadata": {},
   "outputs": [
    {
     "name": "stdout",
     "output_type": "stream",
     "text": [
      "[204554, 204521, 204379, 204560, 204528, 121948, 74646, 141372, 160508, 136811, 178835, 160527, 204495, 204549, 178836, 160559, 204413, 204545, 204501, 160511, 178972, 204571, 204544, 160545, 204503, 204516, 74057, 178927, 204353, 204400, 178937, 178881, 204356, 178831, 74471, 204423, 133439, 178882, 204515, 73696, 160553, 73433, 141391, 204414, 160541, 160600, 74090, 74459, 160665, 204509, 160512, 69871, 178975, 73701, 109429, 141335, 204358, 178948, 204374, 204388, 141513, 204561, 160538, 74052, 204551, 204502, 93083, 204352, 204572, 178829, 204531, 178924, 213762, 204507, 204361, 178962, 178993, 204460, 74262, 204426, 141398, 164360, 204369, 204499, 204380, 204370, 178876, 204488, 141405, 73441, 204496, 204504, 205476, 204490, 141439, 204476, 204462, 178928, 204440, 178939, 74537, 141408, 204376, 204378, 204514, 178963, 135054, 204355, 141411, 74467, 74060, 178916, 204367, 204454, 204409, 204459, 160528, 62881, 160552, 116379, 205548, 204511, 204451, 178908, 204512, 204569, 164359, 204542, 160588, 178929, 160599, 143632, 160758, 204518, 204481, 204439, 204450, 204351, 204412, 81297, 204434, 178994, 204562, 141417, 204421, 74655, 204541, 92346, 204500, 178977, 141421, 141422, 74075, 154919, 204364, 160532, 204389, 178854, 198783, 161550, 132504, 204537, 160575, 160640, 204482, 178871, 178953, 68720, 178969, 141427, 171623, 204368, 160587, 66828, 204477, 72442, 204398, 204371, 160666, 204407, 141431, 92699, 204427, 204411, 204354, 160598, 141434, 191923, 204392, 204510, 204494, 204393, 115746, 160669, 204473, 204484, 204527, 178966, 204394, 74383, 204575, 204491, 74270, 204365, 160673, 178996, 152605, 204419, 107283, 74419, 198197, 204513, 160667, 204442, 73460, 204408, 204456, 204548, 178964, 178873, 204373, 178909, 204444, 73482, 204539, 178981, 73772, 178884, 178959, 141450, 160674, 204533, 204564, 204508, 204436, 73531, 74848, 108338, 74273, 160570, 178839, 204435, 160531, 74366, 141458, 178970, 141459, 204576, 178910, 204468, 204546, 217480, 205550, 178857, 141464, 141470, 204386, 204472, 204391, 74079, 204555, 74554, 209189, 74141, 215043, 204474, 204420, 74317, 204372, 73586, 204457, 204520, 204497, 204574, 204550, 178886, 204536, 151208, 98057, 160534, 178832, 204375, 178825, 204359, 204547, 122195, 74156, 74299, 92102, 139285, 74585, 204405, 204382, 196358, 204523, 204404, 178879, 74478, 178931, 178954, 204381, 160510, 204410, 204448, 160645, 204485, 204455, 162332, 204526, 74784, 204418, 178866, 166402, 204458, 204471, 156190, 179000, 146788, 204433, 76874, 133810, 204558, 204556, 178983, 179001, 81055, 204452, 160542, 150418, 204522, 160535, 204431, 204506, 178943, 204430, 74398, 204540, 178956, 204428, 204432, 74158, 178858, 204403, 204566, 178843, 75431, 204486, 74749, 141508, 188097, 178985, 92172, 154178, 178895, 178997, 204453, 218879, 204449, 204415, 146307, 74165, 178896, 204384, 204479, 74352, 178986, 194260, 66179, 74159, 204498, 74399, 178987, 204363, 73463, 73692, 204422, 204441, 204475, 204573, 160556, 74319, 160642, 204570, 204553, 74160, 204377, 171617, 141518, 141516, 178860, 204538, 193726, 160517, 160558, 204461, 204492, 74574, 128760, 74400, 133968, 141488, 90201, 215045, 122974, 204395, 122158, 160604, 178844, 204406, 73943, 204524, 204529, 73486, 160601, 204390, 204383, 204446, 204565, 160639, 160641, 204467, 178951, 204567, 141523, 74161, 178925, 178989, 73801, 73788, 215042, 204362, 160655, 213274, 178920, 204489, 152610, 160653, 204530, 204366, 141531, 204480, 160651, 178861, 204525, 178945, 204357, 178935, 214477, 73466, 74371, 178887, 73604, 160635, 204535, 178990, 204416, 160621, 204387, 178921, 73808, 178933, 204438, 204437, 178961, 204557, 74356, 204360, 204425, 178946, 178947, 92776, 177282, 204534, 178922, 204464, 178901, 204466, 143084, 204519, 160976, 197438, 178934, 157130, 178863, 195866, 160610, 141552, 74376, 141553, 204505, 204396, 74283, 137070, 178888, 204483, 141555, 204478, 160591, 204532, 179587, 178992, 215044, 160569, 178952, 160518, 74043, 74044, 74439, 178889, 204559, 160632, 204517, 160592] ['Abílio Santana', 'Abou Anni', 'Acácio Favacho', 'Adolfo Viana', 'Adriana Ventura', 'Adriano do Baldy', 'Aécio Neves', 'Aelton Freitas', 'Afonso Florence', 'Afonso Hamm', 'Afonso Motta', 'Aguinaldo Ribeiro', 'Airton Faleiro', 'AJ Albuquerque', 'Alan Rick', 'Alceu Moreira', 'Alcides Rodrigues', 'Alê Silva', 'Alencar Santana', 'Alessandro Molon', 'Alex Manente', 'Alex Santana', 'Alexandre Frota', 'Alexandre Leite', 'Alexandre Padilha', 'Alexis Fonteyne', 'Alice Portugal', 'Aliel Machado', 'Aline Gurgel', 'Aline Sleutjes', 'Altineu Côrtes', 'Aluisio Mendes', 'Amaro Neto', 'André Abdon', 'André de Paula', 'André Ferreira', 'André Figueiredo', 'André Fufuca', 'André Janones', 'Angela Amin', 'Antonio Brito', 'Arlindo Chinaglia', 'Arnaldo Jardim', 'Aroldo Martins', 'Arthur Lira', 'Arthur Oliveira Maia', 'Átila Lins', 'Átila Lira', 'Augusto Coutinho', 'Áurea Carolina', 'Aureo Ribeiro', 'Bacelar', 'Baleia Rossi', 'Benedita da Silva', 'Benes Leocádio', 'Beto Faro', 'Beto Pereira', 'Beto Rosado', 'Bia Kicis', 'Bibo Nunes', 'Bilac Pinto', 'Bira do Pindaré', 'Bohn Gass', 'Bosco Costa', 'Bosco Saraiva', 'Bozzella', 'Cacá Leão', 'Camilo Capiberibe', 'Capitão Alberto Neto', 'Capitão Augusto', 'Capitão Derrite', 'Capitão Fábio Abreu', 'Carla Dickson', 'Carla Zambelli', 'Carlos Chiodini', 'Carlos Gomes', 'Carlos Henrique Gaguim', 'Carlos Jordy', 'Carlos Sampaio', 'Carlos Veras', 'Carlos Zarattini', 'Carmen Zanotto', 'Caroline de Toni', 'Cássio Andrade', 'Celina Leão', 'Célio Moura', 'Célio Silveira', 'Célio Studart', 'Celso Maldaner', 'Celso Russomanno', 'Celso Sabino', 'Cezinha de Madureira', 'Charles Fernandes', 'Charlles Evangelista', \"Chico D'Angelo\", 'Chiquinho Brazão', 'Chris Tonietto', 'Christiane de Souza Yared', 'Christino Aureo', 'Clarissa Garotinho', 'Claudio Cajado', 'Cleber Verde', 'Coronel Armando', 'Coronel Chrisóstomo', 'Coronel Tadeu', 'Covatti Filho', 'Cristiano Vale', 'Da Vitoria', 'Dagoberto Nogueira', 'Damião Feliciano', 'Daniel Almeida', 'Daniel Coelho', 'Daniel Freitas', 'Daniel Silveira', 'Daniel Trzeciak', 'Daniela do Waguinho', 'Danilo Cabral', 'Danilo Forte', 'Danrlei de Deus Hinterholz', 'Darci de Matos', 'David Miranda', 'David Soares', 'Delegado Antônio Furtado', 'Delegado Éder Mauro', 'Delegado Marcelo Freitas', 'Delegado Pablo', 'Delegado Waldir', 'Denis Bezerra', 'Diego Andrade', 'Diego Garcia', 'Dimas Fabiano', 'Domingos Neto', 'Domingos Sávio', 'Dr. Frederico', 'Dr. Jaziel', 'Dr. Leonardo', 'Dr. Luiz Antonio Teixeira Jr.', 'Dr. Luiz Ovando', 'Dr. Zacharias Calil', 'Dra. Soraya Manato', 'Dra. Vanda Milani', 'Dulce Miranda', 'Edilázio Júnior', 'Edio Lopes', 'Edna Henrique', 'Eduardo Barbosa', 'Eduardo Bismarck', 'Eduardo Bolsonaro', 'Eduardo Costa', 'Eduardo Cury', 'Eduardo da Fonte', 'Efraim Filho', 'Elcione Barbalho', 'Eleuses Paiva', 'Eli Borges', 'Eli Corrêa Filho', 'Elias Vaz', 'Elmar Nascimento', 'Emanuel Pinheiro Neto', 'Emidinho Madeira', 'Enio Verri', 'Enrico Misasi', 'Erika Kokay', 'Eros Biondini', 'Euclydes Pettersen', 'Evair Vieira de Melo', 'Expedito Netto', 'Fábio Henrique', 'Fábio Mitidieri', 'Fábio Ramalho', 'Fabio Reis', 'Fabio Schiochet', 'Fábio Trad', 'Fausto Pinato', 'Felício Laterça', 'Felipe Carreras', 'Felipe Francischini', 'Felipe Rigoni', 'Félix Mendonça Júnior', 'Fernanda Melchionna', 'Fernando Coelho Filho', 'Fernando Monteiro', 'Fernando Rodolfo', 'Filipe Barros', 'Flávia Arruda', 'Flávia Morais', 'Flaviano Melo', 'Flávio Nogueira', 'Francisco Jr.', 'Franco Cartafina', 'Fred Costa', 'Frei Anastacio Ribeiro', 'Gelson Azevedo', 'Genecias Noronha', 'General Girão', 'General Peternelli', 'Geninho Zuliani', 'Geovania de Sá', 'Gervásio Maia', 'Giacobo', 'Gil Cutrim', 'Gilberto Abramo', 'Gilberto Nascimento', 'Gilson Marques', 'Giovani Cherini', 'Giovani Feltes', 'Glauber Braga', 'Glaustin da Fokus', 'Gleisi Hoffmann', 'Gonzaga Patriota', 'Greyce Elias', 'Guiga Peixoto', 'Guilherme Mussi', 'Gurgel', 'Gustavo Fruet', 'Gustinho Ribeiro', 'Gutemberg Reis', 'Heitor Freire', 'Heitor Schuch', 'Helder Salomão', 'Hélio Costa', 'Hélio Leite', 'Helio Lopes', 'Henrique Fontana', 'Hercílio Coelho Diniz', 'Herculano Passos', 'Hermes Parcianello', 'Hildo Rocha', 'Hiran Gonçalves', 'Hugo Leal', 'Hugo Motta', 'Idilvan Alencar', 'Igor Kannário', 'Igor Timo', 'Isnaldo Bulhões Jr.', 'Ivan Valente', 'Jandira Feghali', 'Jaqueline Cassol', 'Jefferson Campos', 'Jerônimo Goergen', 'Jéssica Sales', 'Jesus Sérgio', 'Jhonatan de Jesus', 'João Campos', 'João Carlos Bacelar', 'João Daniel', 'João Maia', 'João Roma', 'Joaquim Passarinho', 'Joenia Wapichana', 'Joice Hasselmann', 'Jones Moura', 'Jorge Braz', 'Jorge Solla', 'José Airton Félix Cirilo', 'José Guimarães', 'Jose Mario Schreiner', 'José Medeiros', 'José Nelto', 'José Priante', 'José Ricardo', 'José Rocha', 'Joseildo Ramos', 'Josias Gomes', 'Josivaldo JP', 'Juarez Costa', 'Julian Lemos', 'Júlio Cesar', 'Julio Cesar Ribeiro', 'Júlio Delgado', 'Juninho do Pneu', 'Junio Amaral', 'Júnior Ferrari', 'Junior Lourenço', 'Júnior Mano', 'Juscelino Filho', 'Kim Kataguiri', 'Laercio Oliveira', 'Lafayette de Andrada', 'Lauriete', 'Leandre', 'Leda Sadala', 'Leo de Brito', 'Léo Moraes', 'Léo Motta', 'Leonardo Gadelha', 'Leonardo Monteiro', 'Leônidas Cristino', 'Leur Lomanto Júnior', 'Lídice da Mata', 'Lincoln Portela', 'Liziane Bayer', 'Loester Trutis', 'Lourival Gomes', 'Lucas Gonzalez', 'Lucas Redecker', 'Lucas Vergilio', 'Luciano Bivar', 'Luciano Ducci', 'Lucio Mosquini', 'Luis Miranda', 'Luis Tibé', 'Luisa Canziani', 'Luiz Antônio Corrêa', 'Luiz Carlos', 'Luiz Carlos Motta', 'Luiz Lima', 'Luiz Nishimori', 'Luiz Philippe de Orleans e Bragança', 'Luiza Erundina', 'Luizão Goulart', 'Luizianne Lins', 'Magda Mofatto', 'Major Fabiana', 'Mara Rocha', 'Marcel van Hattem', 'Marcelo Álvaro Antônio', 'Marcelo Aro', 'Marcelo Calero', 'Marcelo Freixo', 'Marcelo Moraes', 'Marcelo Nilo', 'Marcelo Ramos', 'Marcio Alvino', 'Márcio Biolchi', 'Márcio Jerry', 'Márcio Labre', 'Márcio Macêdo', 'Márcio Marinho', 'Marco Bertaiolli', 'Marcon', 'Marcos Aurélio Sampaio', 'Marcos Pereira', 'Marcos Soares', 'Margarete Coelho', 'Maria do Rosário', 'Maria Rosas', 'Mariana Carvalho', 'Marília Arraes', 'Marina Santos', 'Mário Heringer', 'Mário Negromonte Jr.', 'Marlon Santos', 'Marreca Filho', 'Marx Beltrão', 'Maurício Dziedricki', 'Mauro Benevides Filho', 'Mauro Lopes', 'Mauro Nazif', 'Merlong Solano', 'Miguel Lombardi', 'Milton Coelho', 'Milton Vieira', 'Misael Varella', 'Moses Rodrigues', 'Natália Bonavides', 'Nelho Bezerra', 'Nelson Barbudo', 'Nereu Crispim', 'Neri Geller', 'Neucimar Fraga', 'Newton Cardoso Jr', 'Ney Leprevost', 'Nicoletti', 'Nilson Pinto', 'Nilto Tatto', 'Nivaldo Albuquerque', 'Norma Ayub', 'Odair Cunha', 'Olival Marques', 'Onyx Lorenzoni', 'Orlando Silva', 'Osires Damaso', 'Osmar Serraglio', 'Osmar Terra', 'Ossesio Silva', 'Otoni de Paula', 'Ottaci Nascimento', 'Otto Alencar Filho', 'Padre João', 'Paes Landim', 'Pastor Eurico', 'Pastor Gil', 'Pastor Sargento Isidório', 'Patrus Ananias', 'Paula Belmonte', 'Paulão', 'Paulinho da Força', 'Paulo Abi-Ackel', 'Paulo Azi', 'Paulo Bengtson', 'Paulo Eduardo Martins', 'Paulo Foletto', 'Paulo Freire Costa', 'Paulo Ganime', 'Paulo Guedes', 'Paulo Magalhães', 'Paulo Marinho Jr', 'Paulo Pimenta', 'Paulo Ramos', 'Paulo Teixeira', 'Pedro Augusto Bezerra', 'Pedro Augusto Palareti', 'Pedro Lucas Fernandes', 'Pedro Lupion', 'Pedro Paulo', 'Pedro Uczai', 'Pedro Vilela', 'Pedro Westphalen', 'Perpétua Almeida', 'Pinheirinho', 'Policial Katia Sastre', 'Pompeo de Mattos', 'Pr. Marco Feliciano', 'Professor Alcides', 'Professor Israel Batista', 'Professor Joziel', 'Professora Dayane Pimentel', 'Professora Dorinha Seabra Rezende', 'Professora Marcivania', 'Professora Rosa Neide', 'Rafael Motta', 'Raimundo Costa', 'Raul Henry', 'Reginaldo Lopes', 'Rejane Dias', 'Renata Abreu', 'Renildo Calheiros', 'Ricardo Barros', 'Ricardo da Karol', 'Ricardo Guidi', 'Ricardo Izar', 'Ricardo Silva', 'Ricardo Teobaldo', 'Robério Monteiro', 'Roberto Alves', 'Roberto de Lucena', 'Rodrigo Agostinho', 'Rodrigo Coelho', 'Rodrigo de Castro', 'Rogério Correia', 'Rogério Peninha Mendonça', 'Ronaldo Carletto', 'Rosana Valle', 'Rosangela Gomes', 'Rose Modesto', 'Rossoni', 'RRenato Queiroz', 'Rubens Bueno', 'Rubens Otoni', 'Rubens Pereira Júnior', 'Rui Falcão', 'Ruy Carneiro', 'Sâmia Bomfim', 'Samuel Moreira', 'Sanderson', 'Sandro Alex', 'Sargento Fahur', 'Sebastião Oliveira', 'Sérgio Brito', 'Sergio Souza', 'Sergio Toledo', 'Severino Pessoa', 'Shéridan', 'Sidney Leite', 'Silas Câmara', 'Silvia Cristina', 'Silvio Costa Filho', 'Soraya Santos', 'Sóstenes Cavalcante', 'Stefano Aguiar', 'Subtenente Gonzaga', 'Tabata Amaral', 'Tadeu Alencar', 'Talíria Petrone', 'Tereza Cristina', 'Tereza Nelma', 'Tiago Dimas', 'Tiago Mitraud', 'Tiririca', 'Tito', 'Toninho Wandscheer', 'Túlio Gadêlha', 'Uldurico Junior', 'Vaidon Oliveira', 'Valmir Assunção', 'Valtenir Pereira', 'Vander Loubet', 'Vanderlei Macris', 'Vavá Martins', 'Vermelho', 'Vicentinho', 'Vicentinho Júnior', 'Victor Mendes', 'Vilson da Fetaemg', 'Vinicius Carvalho', 'Vinicius Farah', 'Vinicius Gurgel', 'Vinicius Poit', 'Vitor Hugo', 'Vitor Lippi', 'Vivi Reis', 'Waldenor Pereira', 'Walter Alves', 'Weliton Prado', 'Wellington Roberto', 'Wilson Santiago', 'Wolney Queiroz', 'Zé Carlos', 'Zé Neto', 'Zé Silva', 'Zé Vitor', 'Zeca Dirceu'] ['PSC', 'UNIÃO', 'MDB', 'PSDB', 'NOVO', 'PP', 'PSDB', 'PP', 'PT', 'PP', 'PDT', 'PP', 'PT', 'PP', 'UNIÃO', 'MDB', 'PATRIOTA', 'REPUBLICANOS', 'PT', 'PSB', 'CIDADANIA', 'REPUBLICANOS', 'PSDB', 'UNIÃO', 'PT', 'NOVO', 'PCdoB', 'PV', 'REPUBLICANOS', 'PROS', 'PL', 'PSC', 'REPUBLICANOS', 'PP', 'PSD', 'PL', 'PDT', 'PP', 'AVANTE', 'PP', 'PSD', 'PT', 'CIDADANIA', 'REPUBLICANOS', 'PP', 'UNIÃO', 'PSD', 'PP', 'REPUBLICANOS', 'PSOL', 'SOLIDARIEDADE', 'PV', 'MDB', 'PT', 'UNIÃO', 'PT', 'PSDB', 'PP', 'PL', 'PL', 'UNIÃO', 'PSB', 'PT', 'PL', 'SOLIDARIEDADE', 'UNIÃO', 'PP', 'PSB', 'PL', 'PL', 'PL', 'PSD', 'UNIÃO', 'PL', 'MDB', 'REPUBLICANOS', 'UNIÃO', 'PL', 'PSDB', 'PT', 'PT', 'CIDADANIA', 'PL', 'PSB', 'PP', 'PT', 'MDB', 'PSD', 'MDB', 'REPUBLICANOS', 'UNIÃO', 'PSD', 'PSD', 'PP', 'PDT', 'UNIÃO', 'PL', 'PP', 'PP', 'UNIÃO', 'PP', 'REPUBLICANOS', 'PL', 'PL', 'PL', 'PP', 'PP', 'PP', 'PSDB', 'UNIÃO', 'PCdoB', 'CIDADANIA', 'PL', 'PTB', 'PSDB', 'UNIÃO', 'PSB', 'UNIÃO', 'PSD', 'PSD', 'PDT', 'UNIÃO', 'UNIÃO', 'PL', 'UNIÃO', 'UNIÃO', 'UNIÃO', 'PSB', 'PSD', 'REPUBLICANOS', 'PP', 'PSD', 'PL', 'PATRIOTA', 'PL', 'REPUBLICANOS', 'PP', 'PP', 'UNIÃO', 'PTB', 'PROS', 'MDB', 'PSD', 'PL', 'REPUBLICANOS', 'PSDB', 'PDT', 'PL', 'PSD', 'PSDB', 'PP', 'UNIÃO', 'MDB', 'PSD', 'PL', 'UNIÃO', 'PSB', 'UNIÃO', 'MDB', 'PL', 'PT', 'MDB', 'PT', 'PL', 'PSC', 'PP', 'PSD', 'UNIÃO', 'PSD', 'MDB', 'PSD', 'UNIÃO', 'PSD', 'PP', 'PP', 'PSB', 'UNIÃO', 'UNIÃO', 'PDT', 'PSOL', 'UNIÃO', 'PP', 'PL', 'PL', 'PL', 'PDT', 'MDB', 'PT', 'PSD', 'PP', 'PATRIOTA', 'PT', 'PL', 'PL', 'PL', 'UNIÃO', 'UNIÃO', 'PSDB', 'PSB', 'PL', 'REPUBLICANOS', 'REPUBLICANOS', 'PSC', 'NOVO', 'PL', 'MDB', 'PSOL', 'PSC', 'PT', 'PSB', 'AVANTE', 'PSC', 'PP', 'PL', 'PDT', 'REPUBLICANOS', 'MDB', 'UNIÃO', 'PSB', 'PT', 'PSD', 'UNIÃO', 'PL', 'PT', 'MDB', 'REPUBLICANOS', 'MDB', 'MDB', 'PP', 'PSD', 'REPUBLICANOS', 'PDT', 'UNIÃO', 'PODE', 'MDB', 'PSOL', 'PCdoB', 'PP', 'PL', 'PP', 'MDB', 'PDT', 'REPUBLICANOS', 'REPUBLICANOS', 'PL', 'PT', 'PL', 'PL', 'PL', 'REDE', 'PSDB', 'PSD', 'REPUBLICANOS', 'PT', 'PT', 'PT', 'MDB', 'PL', 'PP', 'MDB', 'PT', 'UNIÃO', 'PT', 'PT', 'PSD', 'MDB', 'UNIÃO', 'PSD', 'REPUBLICANOS', 'PV', 'UNIÃO', 'PL', 'PSD', 'PL', 'PL', 'UNIÃO', 'UNIÃO', 'PP', 'REPUBLICANOS', 'PSC', 'PSD', 'PP', 'PT', 'PODE', 'REPUBLICANOS', 'PSC', 'PT', 'PDT', 'UNIÃO', 'PSB', 'PL', 'REPUBLICANOS', 'PL', 'PP', 'NOVO', 'PSDB', 'SOLIDARIEDADE', 'UNIÃO', 'PSB', 'MDB', 'REPUBLICANOS', 'AVANTE', 'PSD', 'PP', 'PSDB', 'PL', 'PL', 'PSD', 'PL', 'PSOL', 'SOLIDARIEDADE', 'PT', 'PL', 'PL', 'MDB', 'NOVO', 'PL', 'PP', 'PSD', 'PSB', 'PL', 'REPUBLICANOS', 'PSD', 'PL', 'MDB', 'PCdoB', 'PL', 'PT', 'REPUBLICANOS', 'PSD', 'PT', 'PSD', 'REPUBLICANOS', 'UNIÃO', 'PP', 'PT', 'REPUBLICANOS', 'REPUBLICANOS', 'PT', 'REPUBLICANOS', 'PDT', 'PP', 'PL', 'PATRIOTA', 'PP', 'PODE', 'PDT', 'PP', 'PSB', 'PT', 'PL', 'PSB', 'REPUBLICANOS', 'PSD', 'UNIÃO', 'PT', 'UNIÃO', 'PL', 'PSD', 'PP', 'PP', 'MDB', 'UNIÃO', 'UNIÃO', 'PSDB', 'PT', 'REPUBLICANOS', 'PP', 'PT', 'MDB', 'PL', 'PCdoB', 'PSC', 'PP', 'MDB', 'REPUBLICANOS', 'MDB', 'SOLIDARIEDADE', 'PSD', 'PT', 'UNIÃO', 'PL', 'PL', 'AVANTE', 'PT', 'CIDADANIA', 'PT', 'SOLIDARIEDADE', 'PSDB', 'UNIÃO', 'PTB', 'PL', 'PSB', 'PL', 'NOVO', 'PT', 'PSD', 'PL', 'PT', 'PDT', 'PT', 'PDT', 'PP', 'UNIÃO', 'PP', 'PSD', 'PT', 'PSDB', 'PP', 'PCdoB', 'PP', 'PL', 'PDT', 'PL', 'PL', 'PSB', 'PATRIOTA', 'UNIÃO', 'UNIÃO', 'PCdoB', 'PT', 'PSB', 'PODE', 'MDB', 'PT', 'PT', 'PODE', 'PCdoB', 'PP', 'PDT', 'PSD', 'REPUBLICANOS', 'PSD', 'PODE', 'PDT', 'REPUBLICANOS', 'REPUBLICANOS', 'PSB', 'PODE', 'UNIÃO', 'PT', 'MDB', 'PP', 'PL', 'REPUBLICANOS', 'PSDB', 'PSDB', 'PSD', 'CIDADANIA', 'PT', 'PT', 'PT', 'PSC', 'PSOL', 'PSDB', 'PL', 'PSD', 'PSD', 'AVANTE', 'PSD', 'MDB', 'PV', 'MDB', 'PSDB', 'PSD', 'REPUBLICANOS', 'PL', 'REPUBLICANOS', 'PL', 'PL', 'PSD', 'PSD', 'PSB', 'PSB', 'PSOL', 'PP', 'PSD', 'PODE', 'NOVO', 'PL', 'AVANTE', 'PROS', 'REDE', 'MDB', 'UNIÃO', 'PT', 'MDB', 'PT', 'PSDB', 'REPUBLICANOS', 'PL', 'PT', 'PP', 'MDB', 'PSB', 'REPUBLICANOS', 'UNIÃO', 'PL', 'NOVO', 'PL', 'PSDB', 'PSOL', 'PT', 'MDB', 'PROS', 'PL', 'REPUBLICANOS', 'PDT', 'PT', 'PT', 'SOLIDARIEDADE', 'PL', 'PT'] ['BA', 'SP', 'AP', 'BA', 'SP', 'GO', 'MG', 'MG', 'BA', 'RS', 'RS', 'PB', 'PA', 'CE', 'AC', 'RS', 'GO', 'MG', 'SP', 'RJ', 'SP', 'BA', 'SP', 'SP', 'SP', 'SP', 'BA', 'PR', 'AP', 'PR', 'RJ', 'MA', 'ES', 'AP', 'PE', 'PE', 'CE', 'MA', 'MG', 'SC', 'BA', 'SP', 'SP', 'PR', 'AL', 'BA', 'AM', 'PI', 'PE', 'MG', 'RJ', 'BA', 'SP', 'RJ', 'RN', 'PA', 'MS', 'RN', 'DF', 'RS', 'MG', 'MA', 'RS', 'SE', 'AM', 'SP', 'BA', 'AP', 'AM', 'SP', 'SP', 'PI', 'RN', 'SP', 'SC', 'RS', 'TO', 'RJ', 'SP', 'PE', 'SP', 'SC', 'SC', 'PA', 'DF', 'TO', 'GO', 'CE', 'SC', 'SP', 'PA', 'SP', 'BA', 'MG', 'RJ', 'RJ', 'RJ', 'PR', 'RJ', 'RJ', 'BA', 'MA', 'SC', 'RO', 'SP', 'RS', 'PA', 'ES', 'MS', 'PB', 'BA', 'PE', 'SC', 'RJ', 'RS', 'RJ', 'PE', 'CE', 'RS', 'SC', 'RJ', 'SP', 'RJ', 'PA', 'MG', 'AM', 'GO', 'CE', 'MG', 'PR', 'MG', 'CE', 'MG', 'MG', 'CE', 'MT', 'RJ', 'MS', 'GO', 'ES', 'AC', 'TO', 'MA', 'RR', 'PB', 'MG', 'CE', 'SP', 'PA', 'SP', 'PE', 'PB', 'PA', 'SP', 'TO', 'SP', 'GO', 'BA', 'MT', 'MG', 'PR', 'SP', 'DF', 'MG', 'MG', 'ES', 'RO', 'SE', 'SE', 'MG', 'SE', 'SC', 'MS', 'SP', 'RJ', 'PE', 'PR', 'ES', 'BA', 'RS', 'PE', 'PE', 'PE', 'PR', 'DF', 'GO', 'AC', 'PI', 'GO', 'MG', 'MG', 'PB', 'RJ', 'CE', 'RN', 'SP', 'SP', 'SC', 'PB', 'PR', 'MA', 'MG', 'SP', 'SC', 'RS', 'RS', 'RJ', 'GO', 'PR', 'PE', 'MG', 'SP', 'SP', 'RJ', 'PR', 'SE', 'RJ', 'CE', 'RS', 'ES', 'SC', 'PA', 'RJ', 'RS', 'MG', 'SP', 'PR', 'MA', 'RR', 'RJ', 'PB', 'CE', 'BA', 'MG', 'AL', 'SP', 'RJ', 'RO', 'SP', 'RS', 'AC', 'AC', 'RR', 'GO', 'BA', 'SE', 'RN', 'BA', 'PA', 'RR', 'SP', 'RJ', 'RJ', 'BA', 'CE', 'CE', 'GO', 'MT', 'GO', 'PA', 'AM', 'BA', 'BA', 'BA', 'MA', 'MT', 'PB', 'PI', 'DF', 'MG', 'RJ', 'MG', 'PA', 'MA', 'CE', 'MA', 'SP', 'SE', 'MG', 'ES', 'PR', 'AP', 'AC', 'RO', 'MG', 'PB', 'MG', 'CE', 'BA', 'BA', 'MG', 'RS', 'MS', 'RJ', 'MG', 'RS', 'GO', 'PE', 'PR', 'RO', 'DF', 'MG', 'PR', 'RJ', 'AP', 'SP', 'RJ', 'PR', 'SP', 'SP', 'PR', 'CE', 'GO', 'RJ', 'AC', 'RS', 'MG', 'MG', 'RJ', 'RJ', 'RS', 'BA', 'AM', 'SP', 'RS', 'MA', 'RJ', 'SE', 'BA', 'SP', 'RS', 'PI', 'SP', 'RJ', 'PI', 'RS', 'SP', 'RO', 'PE', 'PI', 'MG', 'BA', 'RS', 'MA', 'AL', 'RS', 'CE', 'MG', 'RO', 'PI', 'SP', 'PE', 'SP', 'MG', 'CE', 'RN', 'CE', 'MT', 'RS', 'MT', 'ES', 'MG', 'PR', 'RR', 'PA', 'SP', 'AL', 'ES', 'MG', 'PA', 'RS', 'SP', 'TO', 'PR', 'RS', 'PE', 'RJ', 'RR', 'BA', 'MG', 'PI', 'PE', 'MA', 'BA', 'MG', 'DF', 'AL', 'SP', 'MG', 'BA', 'PA', 'PR', 'ES', 'SP', 'RJ', 'MG', 'BA', 'MA', 'RS', 'RJ', 'SP', 'CE', 'RJ', 'MA', 'PR', 'RJ', 'SC', 'AL', 'RS', 'AC', 'MG', 'SP', 'RS', 'SP', 'GO', 'DF', 'RJ', 'BA', 'TO', 'AP', 'MT', 'RN', 'BA', 'PE', 'MG', 'PI', 'SP', 'PE', 'PR', 'RJ', 'SC', 'SP', 'SP', 'PE', 'CE', 'SP', 'SP', 'SP', 'SC', 'MG', 'MG', 'SC', 'BA', 'SP', 'RJ', 'MS', 'PR', 'RR', 'PR', 'GO', 'MA', 'SP', 'PB', 'SP', 'SP', 'RS', 'PR', 'PR', 'PE', 'BA', 'PR', 'AL', 'AL', 'RR', 'AM', 'AM', 'RO', 'PE', 'RJ', 'RJ', 'MG', 'MG', 'SP', 'PE', 'RJ', 'MS', 'AL', 'TO', 'MG', 'SP', 'BA', 'PR', 'PE', 'BA', 'CE', 'BA', 'MT', 'MS', 'SP', 'PA', 'PR', 'SP', 'TO', 'MA', 'MG', 'SP', 'RJ', 'AP', 'SP', 'GO', 'SP', 'PA', 'BA', 'RN', 'MG', 'PB', 'PB', 'PE', 'MA', 'BA', 'MG', 'MG', 'PR']\n"
     ]
    }
   ],
   "source": [
    "# requests para que o python possa acessar o site da câmara e baixar os dados como json.\n",
    "url_get_deputados = f'https://dadosabertos.camara.leg.br/api/v2/deputados?ordem=ASC&ordenarPor=nome'\n",
    "dep = requests.get(url_get_deputados).json()\n",
    "\n",
    "#Foram criadas listas para que fossem armazenadas as informações dos deputados.\n",
    "\n",
    "lista_nome= []\n",
    "lista_id= []\n",
    "lista_partido= []\n",
    "lista_uf= []\n",
    "    \n",
    "for info in dep['dados']:\n",
    "    lista_id.append(info['id'])\n",
    "    lista_nome.append(info['nome'])\n",
    "    lista_partido.append(info['siglaPartido'])\n",
    "    lista_uf.append(info['siglaUf'])\n",
    "    \n",
    "print(lista_id, lista_nome, lista_partido, lista_uf)\n"
   ]
  },
  {
   "cell_type": "markdown",
   "id": "d5d069d5",
   "metadata": {},
   "source": [
    "## 3 - Coleta de dados sobre os deputados (atuação)"
   ]
  },
  {
   "cell_type": "code",
   "execution_count": 3,
   "id": "1b749d53",
   "metadata": {},
   "outputs": [],
   "source": [
    "options = Options()\n",
    "options.add_argument(\"--window-size=1920,1080\")\n",
    "options.add_argument(\"--log-level=3\")\n",
    "options.add_experimental_option('excludeSwitches', ['enable-logging'])"
   ]
  },
  {
   "cell_type": "code",
   "execution_count": 4,
   "id": "de075be6",
   "metadata": {},
   "outputs": [
    {
     "name": "stderr",
     "output_type": "stream",
     "text": [
      "C:\\Users\\marco\\AppData\\Local\\Temp\\ipykernel_6648\\2434263356.py:1: DeprecationWarning: executable_path has been deprecated, please pass in a Service object\n",
      "  driver = webdriver.Chrome(executable_path='C:\\\\Users\\\\marco\\\\OneDrive\\\\Ciência de Dados\\\\chromedriver.exe')\n"
     ]
    }
   ],
   "source": [
    "driver = webdriver.Chrome(executable_path='C:\\\\Users\\\\marco\\\\OneDrive\\\\Ciência de Dados\\\\chromedriver.exe')"
   ]
  },
  {
   "cell_type": "code",
   "execution_count": 5,
   "id": "c3683b76",
   "metadata": {},
   "outputs": [],
   "source": [
    "driver.get('https://www.camara.leg.br/deputados/204554?ano=2021')"
   ]
  },
  {
   "cell_type": "markdown",
   "id": "8a5b8960",
   "metadata": {},
   "source": [
    "Com todos os deputados"
   ]
  },
  {
   "cell_type": "code",
   "execution_count": 9,
   "id": "24875f61",
   "metadata": {},
   "outputs": [],
   "source": [
    "\n",
    "def_autoria, def_relatado, def_vot_nominal = [],[],[]\n",
    "def_discursos, def_pre_plenario, def_aj_plenario = [],[],[]\n",
    "def_anj_plenario, def_pre_comissao, def_aj_comissao, def_anj_comissao = [],[],[],[]"
   ]
  },
  {
   "cell_type": "code",
   "execution_count": 11,
   "id": "ee322a04",
   "metadata": {},
   "outputs": [
    {
     "name": "stdout",
     "output_type": "stream",
     "text": [
      "0 de 513\n",
      "1 de 513\n",
      "2 de 513\n",
      "3 de 513\n",
      "4 de 513\n",
      "5 de 513\n",
      "6 de 513\n",
      "7 de 513\n",
      "8 de 513\n",
      "9 de 513\n",
      "10 de 513\n",
      "11 de 513\n",
      "12 de 513\n",
      "13 de 513\n",
      "14 de 513\n",
      "15 de 513\n"
     ]
    },
    {
     "ename": "KeyboardInterrupt",
     "evalue": "",
     "output_type": "error",
     "traceback": [
      "\u001b[1;31m---------------------------------------------------------------------------\u001b[0m",
      "\u001b[1;31mKeyboardInterrupt\u001b[0m                         Traceback (most recent call last)",
      "\u001b[1;32mc:\\Users\\marco\\OneDrive\\Área de Trabalho\\Git Hub\\deputados_2021.ipynb Cell 13'\u001b[0m in \u001b[0;36m<cell line: 1>\u001b[1;34m()\u001b[0m\n\u001b[0;32m      <a href='vscode-notebook-cell:/c%3A/Users/marco/OneDrive/%C3%81rea%20de%20Trabalho/Git%20Hub/deputados_2021.ipynb#ch0000018?line=1'>2</a>\u001b[0m \u001b[39mprint\u001b[39m(id_,\u001b[39m'\u001b[39m\u001b[39mde\u001b[39m\u001b[39m'\u001b[39m,\u001b[39mlen\u001b[39m(lista_id))\n\u001b[0;32m      <a href='vscode-notebook-cell:/c%3A/Users/marco/OneDrive/%C3%81rea%20de%20Trabalho/Git%20Hub/deputados_2021.ipynb#ch0000018?line=2'>3</a>\u001b[0m driver\u001b[39m.\u001b[39mget(\u001b[39mf\u001b[39m\u001b[39m'\u001b[39m\u001b[39mhttps://www.camara.leg.br/deputados/\u001b[39m\u001b[39m{\u001b[39;00mlista_id[id_]\u001b[39m}\u001b[39;00m\u001b[39m?ano=2021\u001b[39m\u001b[39m'\u001b[39m)\n\u001b[1;32m----> <a href='vscode-notebook-cell:/c%3A/Users/marco/OneDrive/%C3%81rea%20de%20Trabalho/Git%20Hub/deputados_2021.ipynb#ch0000018?line=3'>4</a>\u001b[0m time\u001b[39m.\u001b[39;49msleep(\u001b[39m4\u001b[39;49m)\n\u001b[0;32m      <a href='vscode-notebook-cell:/c%3A/Users/marco/OneDrive/%C3%81rea%20de%20Trabalho/Git%20Hub/deputados_2021.ipynb#ch0000018?line=4'>5</a>\u001b[0m \u001b[39m# dica pl_l_autoria_text = pl_l_autoria.text if pl_l_autoria else None\u001b[39;00m\n\u001b[0;32m      <a href='vscode-notebook-cell:/c%3A/Users/marco/OneDrive/%C3%81rea%20de%20Trabalho/Git%20Hub/deputados_2021.ipynb#ch0000018?line=5'>6</a>\u001b[0m \u001b[39mif\u001b[39;00m (\u001b[39mlen\u001b[39m(driver\u001b[39m.\u001b[39mfind_elements(by\u001b[39m=\u001b[39mBy\u001b[39m.\u001b[39mXPATH,value\u001b[39m=\u001b[39m\u001b[39m\"\u001b[39m\u001b[39m//div[@class=\u001b[39m\u001b[39m'\u001b[39m\u001b[39mcard-body\u001b[39m\u001b[39m'\u001b[39m\u001b[39m]/ul[@class=\u001b[39m\u001b[39m'\u001b[39m\u001b[39matuacao\u001b[39m\u001b[39m'\u001b[39m\u001b[39m]/li[@class=\u001b[39m\u001b[39m'\u001b[39m\u001b[39matuacao__item\u001b[39m\u001b[39m'\u001b[39m\u001b[39m]/a[@class=\u001b[39m\u001b[39m'\u001b[39m\u001b[39matuacao__quantidade\u001b[39m\u001b[39m'\u001b[39m\u001b[39m]\u001b[39m\u001b[39m\"\u001b[39m)) \u001b[39m>\u001b[39m\u001b[39m1\u001b[39m)\u001b[39mor\u001b[39;00m(\u001b[39mlen\u001b[39m(driver\u001b[39m.\u001b[39mfind_elements(by\u001b[39m=\u001b[39mBy\u001b[39m.\u001b[39mXPATH,value\u001b[39m=\u001b[39m\u001b[39m\"\u001b[39m\u001b[39m//div[@class=\u001b[39m\u001b[39m'\u001b[39m\u001b[39mcard-body\u001b[39m\u001b[39m'\u001b[39m\u001b[39m]/ul[@class=\u001b[39m\u001b[39m'\u001b[39m\u001b[39matuacao\u001b[39m\u001b[39m'\u001b[39m\u001b[39m]/li[@class=\u001b[39m\u001b[39m'\u001b[39m\u001b[39matuacao__item\u001b[39m\u001b[39m'\u001b[39m\u001b[39m]/span[@class=\u001b[39m\u001b[39m'\u001b[39m\u001b[39matuacao__quantidade\u001b[39m\u001b[39m'\u001b[39m\u001b[39m]\u001b[39m\u001b[39m\"\u001b[39m)) \u001b[39m>\u001b[39m\u001b[39m1\u001b[39m):\n",
      "\u001b[1;31mKeyboardInterrupt\u001b[0m: "
     ]
    }
   ],
   "source": [
    "for id_ in range(0,len(lista_id)):\n",
    "    print(id_,'de',len(lista_id))\n",
    "    driver.get(f'https://www.camara.leg.br/deputados/{lista_id[id_]}?ano=2021')\n",
    "    time.sleep(4)\n",
    "    # dica pl_l_autoria_text = pl_l_autoria.text if pl_l_autoria else None\n",
    "    if (len(driver.find_elements(by=By.XPATH,value=\"//div[@class='card-body']/ul[@class='atuacao']/li[@class='atuacao__item']/a[@class='atuacao__quantidade']\")) >1)or(len(driver.find_elements(by=By.XPATH,value=\"//div[@class='card-body']/ul[@class='atuacao']/li[@class='atuacao__item']/span[@class='atuacao__quantidade']\")) >1):\n",
    "        try:\n",
    "            p_l_autoria = driver.find_elements(by=By.XPATH,value=\"//div[@class='card-body']/ul[@class='atuacao']/li[@class='atuacao__item']/a[@class='atuacao__quantidade']\")[0].text\n",
    "            p_l_relatado = driver.find_elements(by=By.XPATH,value=\"//div[@class='card-body']/ul[@class='atuacao']/li[@class='atuacao__item']/a[@class='atuacao__quantidade']\")[1].text\n",
    "        except:\n",
    "            p_l_autoria = driver.find_elements(by=By.XPATH,value=\"//div[@class='card-body']/ul[@class='atuacao']/li[@class='atuacao__item']/span[@class='atuacao__quantidade']\")[0].text\n",
    "            p_l_relatado = driver.find_elements(by=By.XPATH,value=\"//div[@class='card-body']/ul[@class='atuacao']/li[@class='atuacao__item']/span[@class='atuacao__quantidade']\")[1].text\n",
    "    else:\n",
    "        try:\n",
    "            p_l_autoria = driver.find_elements(by=By.XPATH,value=\"//div[@class='card-body']/ul[@class='atuacao']/li[@class='atuacao__item']/a[@class='atuacao__quantidade']\")[0].text\n",
    "            p_l_relatado = driver.find_elements(by=By.XPATH,value=\"//div[@class='card-body']/ul[@class='atuacao']/li[@class='atuacao__item']/span[@class='atuacao__quantidade']\")[0].text\n",
    "        except:\n",
    "            p_l_autoria = driver.find_elements(by=By.XPATH,value=\"//div[@class='card-body']/ul[@class='atuacao']/li[@class='atuacao__item']/span[@class='atuacao__quantidade']\")[0].text\n",
    "            p_l_relatado = driver.find_elements(by=By.XPATH,value=\"//div[@class='card-body']/ul[@class='atuacao']/li[@class='atuacao__item']/a[@class='atuacao__quantidade']\")[0].text\n",
    " \n",
    "    \n",
    "    \n",
    "    vot_nominais = driver.find_elements(by=By.XPATH,value=\"//div[@class='card-body']/div[@class='atuacao atuacao--unico']/div[@class='atuacao__item']/a[@class='atuacao__quantidade']\")[0].text\n",
    "    try:\n",
    "        discursos =driver.find_elements(by=By.XPATH,value=\"//div[@class='card card--atuacao card--lg-borda-estreita']/div[@class='card-body']/div[@class='atuacao atuacao--unico']/div[@class='atuacao__item']/span[@class='atuacao__quantidade']\")[0].text\n",
    "    except:\n",
    "        discursos =driver.find_elements(by=By.XPATH,value=\"//div[@class='card card--atuacao card--lg-borda-estreita']/div[@class='card-body']/div[@class='atuacao atuacao--unico']/div[@class='atuacao__item']/a[@class='atuacao__quantidade']\")[0].text\n",
    "    plenario = driver.find_elements(by=By.XPATH,value=\"//div[@class='list-table']/ul[@class='list-table__content']/li[@class='list-table__item']/dl[@class='list-table__definition-list']/dd\")\n",
    "\n",
    "    pre_plenario = plenario[0].text\n",
    "    aj_plenario = plenario[1].text\n",
    "    anj_plenario = plenario[2].text\n",
    "    pre_comissao = plenario[3].text\n",
    "    aj_comissao = plenario[4].text\n",
    "    anj_comissao = plenario[5].text\n",
    "    \n",
    "    def_autoria.append(p_l_autoria)\n",
    "    def_relatado.append(p_l_relatado)\n",
    "    def_vot_nominal.append(vot_nominais)\n",
    "    def_discursos.append(discursos)\n",
    "    def_pre_plenario.append(pre_plenario)\n",
    "    def_aj_plenario.append(aj_plenario)\n",
    "    def_anj_plenario.append(anj_plenario)\n",
    "    def_pre_comissao.append(pre_comissao)\n",
    "    def_aj_comissao.append(aj_comissao)\n",
    "    def_anj_comissao.append(anj_comissao)  "
   ]
  },
  {
   "cell_type": "code",
   "execution_count": 141,
   "id": "203477b5",
   "metadata": {},
   "outputs": [],
   "source": [
    "driver.close()"
   ]
  },
  {
   "cell_type": "code",
   "execution_count": 139,
   "id": "1a4d4510",
   "metadata": {},
   "outputs": [],
   "source": [
    "dict = {'nome_deputado':lista_nome, 'id_deputado':lista_id, 'partido':lista_partido, 'uf_deputado':lista_uf,\n",
    "       'Propostas Legislativas de sua autoria': def_autoria, \n",
    "        'Propostas Legislativas relatadas':def_relatado, \n",
    "        'Votações nominais':def_vot_nominal,\n",
    "        'Discursos em plenário':def_discursos, \n",
    "        'Presenças em plenário':def_pre_plenario, \n",
    "        'Ausencias justificadas em plenario':def_aj_plenario,\n",
    "        'Ausências não justificadas em plenario':def_anj_plenario, \n",
    "        'Presenças em Comissões':def_pre_comissao, \n",
    "        'Ausências justificadas em comissões':def_aj_comissao, \n",
    "        'Ausências não justificadas em comissões':def_anj_comissao\n",
    "       } \n",
    "    \n",
    "df = pd.DataFrame(dict)"
   ]
  }
 ],
 "metadata": {
  "kernelspec": {
   "display_name": "Python 3 (ipykernel)",
   "language": "python",
   "name": "python3"
  },
  "language_info": {
   "codemirror_mode": {
    "name": "ipython",
    "version": 3
   },
   "file_extension": ".py",
   "mimetype": "text/x-python",
   "name": "python",
   "nbconvert_exporter": "python",
   "pygments_lexer": "ipython3",
   "version": "3.10.2"
  }
 },
 "nbformat": 4,
 "nbformat_minor": 5
}
