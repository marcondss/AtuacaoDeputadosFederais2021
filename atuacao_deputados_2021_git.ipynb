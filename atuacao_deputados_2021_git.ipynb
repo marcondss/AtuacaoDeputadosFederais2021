{
  "cells": [
    {
      "cell_type": "markdown",
      "metadata": {
        "id": "yPVdA61e4RSh"
      },
      "source": [
        "# Atuação dos deputados em 2021\n",
        "##### Este estudo tem por finalidade, a análise da atuação dos deputados federais, eleitos em 2018, durante o seu mandato.\n",
        "\n",
        "Seguiremos o seguinte índice.\n",
        "\n",
        "1 - 10 deputados com mais Propostas Legislativas de sua autoria.\\\n",
        "2 - 10 deputados com menos Propostas Legislativas de sua autoria.\\\n",
        "3 - 10 deputados com mais Propostas Legislativas relatadas.\\\n",
        "4 - 10 deputados que menos justificaram as Ausências em plenario.\\\n",
        "5 - Quais os maiores partidos de 2019 a 2022.\\\n",
        "6 - Qual partido que teve mais propostas de autoria.\n",
        "\n",
        "\n"
      ]
    },
    {
      "cell_type": "markdown",
      "metadata": {
        "id": "_LGJRxh84RSo"
      },
      "source": [
        "#### Bibliotecas Usadas"
      ]
    },
    {
      "cell_type": "code",
      "execution_count": null,
      "metadata": {
        "id": "PhsnpwC94RSq"
      },
      "outputs": [],
      "source": [
        "import pandas as pd\n",
        "import seaborn as sns \n",
        "import matplotlib.pyplot as plt\n",
        "import plotly.express as px"
      ]
    },
    {
      "cell_type": "markdown",
      "metadata": {
        "id": "5BaCJLky4RSr"
      },
      "source": [
        "#### Leitura da Base."
      ]
    },
    {
      "cell_type": "code",
      "execution_count": null,
      "metadata": {
        "id": "3xlkGT2Q4RSs",
        "outputId": "5b6f244a-fb10-4000-b0d1-e635b23d828c",
        "colab": {
          "base_uri": "https://localhost:8080/",
          "height": 409
        }
      },
      "outputs": [
        {
          "output_type": "execute_result",
          "data": {
            "text/plain": [
              "     nome_deputado  id_deputado partido uf_deputado  \\\n",
              "0   Abílio Santana       204554      PL          BA   \n",
              "1        Abou Anni       204521   UNIÃO          SP   \n",
              "2   Acácio Favacho       204379    PROS          AP   \n",
              "3     Adolfo Viana       204560    PSDB          BA   \n",
              "4  Adriana Ventura       204528    NOVO          SP   \n",
              "\n",
              "   Propostas Legislativas de sua autoria  Propostas Legislativas relatadas  \\\n",
              "0                                     76                                 0   \n",
              "1                                     40                                 2   \n",
              "2                                     65                                 3   \n",
              "3                                     25                                18   \n",
              "4                                    298                                23   \n",
              "\n",
              "   Votações nominais  Discursos em plenário Presenças em plenário  \\\n",
              "0                747                      0              128 dias   \n",
              "1                748                      0              130 dias   \n",
              "2                758                     17              129 dias   \n",
              "3                745                      2              125 dias   \n",
              "4                762                    118              132 dias   \n",
              "\n",
              "  Ausencias justificadas em plenario Ausências não justificadas em plenario  \\\n",
              "0                             3 dias                                 1 dias   \n",
              "1                             0 dias                                 2 dias   \n",
              "2                             3 dias                                 0 dias   \n",
              "3                             0 dias                                 7 dias   \n",
              "4                             0 dias                                 0 dias   \n",
              "\n",
              "  Presenças em Comissões Ausências justificadas em comissões  \\\n",
              "0            66 reuniões                          5 reuniões   \n",
              "1            58 reuniões                          0 reuniões   \n",
              "2            41 reuniões                          3 reuniões   \n",
              "3            64 reuniões                          0 reuniões   \n",
              "4           249 reuniões                          0 reuniões   \n",
              "\n",
              "  Ausências não justificadas em comissões  \n",
              "0                              6 reuniões  \n",
              "1                             15 reuniões  \n",
              "2                             55 reuniões  \n",
              "3                             44 reuniões  \n",
              "4                              0 reuniões  "
            ],
            "text/html": [
              "\n",
              "  <div id=\"df-8950a68e-7a88-440c-a4ca-3d8201ca9d0e\">\n",
              "    <div class=\"colab-df-container\">\n",
              "      <div>\n",
              "<style scoped>\n",
              "    .dataframe tbody tr th:only-of-type {\n",
              "        vertical-align: middle;\n",
              "    }\n",
              "\n",
              "    .dataframe tbody tr th {\n",
              "        vertical-align: top;\n",
              "    }\n",
              "\n",
              "    .dataframe thead th {\n",
              "        text-align: right;\n",
              "    }\n",
              "</style>\n",
              "<table border=\"1\" class=\"dataframe\">\n",
              "  <thead>\n",
              "    <tr style=\"text-align: right;\">\n",
              "      <th></th>\n",
              "      <th>nome_deputado</th>\n",
              "      <th>id_deputado</th>\n",
              "      <th>partido</th>\n",
              "      <th>uf_deputado</th>\n",
              "      <th>Propostas Legislativas de sua autoria</th>\n",
              "      <th>Propostas Legislativas relatadas</th>\n",
              "      <th>Votações nominais</th>\n",
              "      <th>Discursos em plenário</th>\n",
              "      <th>Presenças em plenário</th>\n",
              "      <th>Ausencias justificadas em plenario</th>\n",
              "      <th>Ausências não justificadas em plenario</th>\n",
              "      <th>Presenças em Comissões</th>\n",
              "      <th>Ausências justificadas em comissões</th>\n",
              "      <th>Ausências não justificadas em comissões</th>\n",
              "    </tr>\n",
              "  </thead>\n",
              "  <tbody>\n",
              "    <tr>\n",
              "      <th>0</th>\n",
              "      <td>Abílio Santana</td>\n",
              "      <td>204554</td>\n",
              "      <td>PL</td>\n",
              "      <td>BA</td>\n",
              "      <td>76</td>\n",
              "      <td>0</td>\n",
              "      <td>747</td>\n",
              "      <td>0</td>\n",
              "      <td>128 dias</td>\n",
              "      <td>3 dias</td>\n",
              "      <td>1 dias</td>\n",
              "      <td>66 reuniões</td>\n",
              "      <td>5 reuniões</td>\n",
              "      <td>6 reuniões</td>\n",
              "    </tr>\n",
              "    <tr>\n",
              "      <th>1</th>\n",
              "      <td>Abou Anni</td>\n",
              "      <td>204521</td>\n",
              "      <td>UNIÃO</td>\n",
              "      <td>SP</td>\n",
              "      <td>40</td>\n",
              "      <td>2</td>\n",
              "      <td>748</td>\n",
              "      <td>0</td>\n",
              "      <td>130 dias</td>\n",
              "      <td>0 dias</td>\n",
              "      <td>2 dias</td>\n",
              "      <td>58 reuniões</td>\n",
              "      <td>0 reuniões</td>\n",
              "      <td>15 reuniões</td>\n",
              "    </tr>\n",
              "    <tr>\n",
              "      <th>2</th>\n",
              "      <td>Acácio Favacho</td>\n",
              "      <td>204379</td>\n",
              "      <td>PROS</td>\n",
              "      <td>AP</td>\n",
              "      <td>65</td>\n",
              "      <td>3</td>\n",
              "      <td>758</td>\n",
              "      <td>17</td>\n",
              "      <td>129 dias</td>\n",
              "      <td>3 dias</td>\n",
              "      <td>0 dias</td>\n",
              "      <td>41 reuniões</td>\n",
              "      <td>3 reuniões</td>\n",
              "      <td>55 reuniões</td>\n",
              "    </tr>\n",
              "    <tr>\n",
              "      <th>3</th>\n",
              "      <td>Adolfo Viana</td>\n",
              "      <td>204560</td>\n",
              "      <td>PSDB</td>\n",
              "      <td>BA</td>\n",
              "      <td>25</td>\n",
              "      <td>18</td>\n",
              "      <td>745</td>\n",
              "      <td>2</td>\n",
              "      <td>125 dias</td>\n",
              "      <td>0 dias</td>\n",
              "      <td>7 dias</td>\n",
              "      <td>64 reuniões</td>\n",
              "      <td>0 reuniões</td>\n",
              "      <td>44 reuniões</td>\n",
              "    </tr>\n",
              "    <tr>\n",
              "      <th>4</th>\n",
              "      <td>Adriana Ventura</td>\n",
              "      <td>204528</td>\n",
              "      <td>NOVO</td>\n",
              "      <td>SP</td>\n",
              "      <td>298</td>\n",
              "      <td>23</td>\n",
              "      <td>762</td>\n",
              "      <td>118</td>\n",
              "      <td>132 dias</td>\n",
              "      <td>0 dias</td>\n",
              "      <td>0 dias</td>\n",
              "      <td>249 reuniões</td>\n",
              "      <td>0 reuniões</td>\n",
              "      <td>0 reuniões</td>\n",
              "    </tr>\n",
              "  </tbody>\n",
              "</table>\n",
              "</div>\n",
              "      <button class=\"colab-df-convert\" onclick=\"convertToInteractive('df-8950a68e-7a88-440c-a4ca-3d8201ca9d0e')\"\n",
              "              title=\"Convert this dataframe to an interactive table.\"\n",
              "              style=\"display:none;\">\n",
              "        \n",
              "  <svg xmlns=\"http://www.w3.org/2000/svg\" height=\"24px\"viewBox=\"0 0 24 24\"\n",
              "       width=\"24px\">\n",
              "    <path d=\"M0 0h24v24H0V0z\" fill=\"none\"/>\n",
              "    <path d=\"M18.56 5.44l.94 2.06.94-2.06 2.06-.94-2.06-.94-.94-2.06-.94 2.06-2.06.94zm-11 1L8.5 8.5l.94-2.06 2.06-.94-2.06-.94L8.5 2.5l-.94 2.06-2.06.94zm10 10l.94 2.06.94-2.06 2.06-.94-2.06-.94-.94-2.06-.94 2.06-2.06.94z\"/><path d=\"M17.41 7.96l-1.37-1.37c-.4-.4-.92-.59-1.43-.59-.52 0-1.04.2-1.43.59L10.3 9.45l-7.72 7.72c-.78.78-.78 2.05 0 2.83L4 21.41c.39.39.9.59 1.41.59.51 0 1.02-.2 1.41-.59l7.78-7.78 2.81-2.81c.8-.78.8-2.07 0-2.86zM5.41 20L4 18.59l7.72-7.72 1.47 1.35L5.41 20z\"/>\n",
              "  </svg>\n",
              "      </button>\n",
              "      \n",
              "  <style>\n",
              "    .colab-df-container {\n",
              "      display:flex;\n",
              "      flex-wrap:wrap;\n",
              "      gap: 12px;\n",
              "    }\n",
              "\n",
              "    .colab-df-convert {\n",
              "      background-color: #E8F0FE;\n",
              "      border: none;\n",
              "      border-radius: 50%;\n",
              "      cursor: pointer;\n",
              "      display: none;\n",
              "      fill: #1967D2;\n",
              "      height: 32px;\n",
              "      padding: 0 0 0 0;\n",
              "      width: 32px;\n",
              "    }\n",
              "\n",
              "    .colab-df-convert:hover {\n",
              "      background-color: #E2EBFA;\n",
              "      box-shadow: 0px 1px 2px rgba(60, 64, 67, 0.3), 0px 1px 3px 1px rgba(60, 64, 67, 0.15);\n",
              "      fill: #174EA6;\n",
              "    }\n",
              "\n",
              "    [theme=dark] .colab-df-convert {\n",
              "      background-color: #3B4455;\n",
              "      fill: #D2E3FC;\n",
              "    }\n",
              "\n",
              "    [theme=dark] .colab-df-convert:hover {\n",
              "      background-color: #434B5C;\n",
              "      box-shadow: 0px 1px 3px 1px rgba(0, 0, 0, 0.15);\n",
              "      filter: drop-shadow(0px 1px 2px rgba(0, 0, 0, 0.3));\n",
              "      fill: #FFFFFF;\n",
              "    }\n",
              "  </style>\n",
              "\n",
              "      <script>\n",
              "        const buttonEl =\n",
              "          document.querySelector('#df-8950a68e-7a88-440c-a4ca-3d8201ca9d0e button.colab-df-convert');\n",
              "        buttonEl.style.display =\n",
              "          google.colab.kernel.accessAllowed ? 'block' : 'none';\n",
              "\n",
              "        async function convertToInteractive(key) {\n",
              "          const element = document.querySelector('#df-8950a68e-7a88-440c-a4ca-3d8201ca9d0e');\n",
              "          const dataTable =\n",
              "            await google.colab.kernel.invokeFunction('convertToInteractive',\n",
              "                                                     [key], {});\n",
              "          if (!dataTable) return;\n",
              "\n",
              "          const docLinkHtml = 'Like what you see? Visit the ' +\n",
              "            '<a target=\"_blank\" href=https://colab.research.google.com/notebooks/data_table.ipynb>data table notebook</a>'\n",
              "            + ' to learn more about interactive tables.';\n",
              "          element.innerHTML = '';\n",
              "          dataTable['output_type'] = 'display_data';\n",
              "          await google.colab.output.renderOutput(dataTable, element);\n",
              "          const docLink = document.createElement('div');\n",
              "          docLink.innerHTML = docLinkHtml;\n",
              "          element.appendChild(docLink);\n",
              "        }\n",
              "      </script>\n",
              "    </div>\n",
              "  </div>\n",
              "  "
            ]
          },
          "metadata": {},
          "execution_count": 3
        }
      ],
      "source": [
        "df = pd.read_excel(\"/atuacao.xlsx\")\n",
        "df.head()"
      ]
    },
    {
      "cell_type": "code",
      "execution_count": null,
      "metadata": {
        "id": "23v-8XjK4RSu",
        "outputId": "8feb81ba-4dc9-4f15-9d53-b92852327c2c",
        "colab": {
          "base_uri": "https://localhost:8080/",
          "height": 496
        }
      },
      "outputs": [
        {
          "output_type": "execute_result",
          "data": {
            "text/plain": [
              "     nome_deputado  id_deputado partido uf_deputado  \\\n",
              "0   Abílio Santana       204554      PL          BA   \n",
              "1        Abou Anni       204521   UNIÃO          SP   \n",
              "2   Acácio Favacho       204379    PROS          AP   \n",
              "3     Adolfo Viana       204560    PSDB          BA   \n",
              "4  Adriana Ventura       204528    NOVO          SP   \n",
              "\n",
              "   Propostas Legislativas de sua autoria  Propostas Legislativas relatadas  \\\n",
              "0                                     76                                 0   \n",
              "1                                     40                                 2   \n",
              "2                                     65                                 3   \n",
              "3                                     25                                18   \n",
              "4                                    298                                23   \n",
              "\n",
              "   Votações nominais  Discursos em plenário  Presenças em plenário  \\\n",
              "0                747                      0                    128   \n",
              "1                748                      0                    130   \n",
              "2                758                     17                    129   \n",
              "3                745                      2                    125   \n",
              "4                762                    118                    132   \n",
              "\n",
              "   Ausencias justificadas em plenario  Ausências não justificadas em plenario  \\\n",
              "0                                   3                                       1   \n",
              "1                                   0                                       2   \n",
              "2                                   3                                       0   \n",
              "3                                   0                                       7   \n",
              "4                                   0                                       0   \n",
              "\n",
              "   Presenças em Comissões  Ausências justificadas em comissões  \\\n",
              "0                      66                                    5   \n",
              "1                      58                                    0   \n",
              "2                      41                                    3   \n",
              "3                      64                                    0   \n",
              "4                     249                                    0   \n",
              "\n",
              "   Ausências não justificadas em comissões        Nome e Partido  \n",
              "0                                        6     Abílio Santana PL  \n",
              "1                                       15       Abou Anni UNIÃO  \n",
              "2                                       55   Acácio Favacho PROS  \n",
              "3                                       44     Adolfo Viana PSDB  \n",
              "4                                        0  Adriana Ventura NOVO  "
            ],
            "text/html": [
              "\n",
              "  <div id=\"df-41417007-a19d-47d2-8e36-3d4d94a07012\">\n",
              "    <div class=\"colab-df-container\">\n",
              "      <div>\n",
              "<style scoped>\n",
              "    .dataframe tbody tr th:only-of-type {\n",
              "        vertical-align: middle;\n",
              "    }\n",
              "\n",
              "    .dataframe tbody tr th {\n",
              "        vertical-align: top;\n",
              "    }\n",
              "\n",
              "    .dataframe thead th {\n",
              "        text-align: right;\n",
              "    }\n",
              "</style>\n",
              "<table border=\"1\" class=\"dataframe\">\n",
              "  <thead>\n",
              "    <tr style=\"text-align: right;\">\n",
              "      <th></th>\n",
              "      <th>nome_deputado</th>\n",
              "      <th>id_deputado</th>\n",
              "      <th>partido</th>\n",
              "      <th>uf_deputado</th>\n",
              "      <th>Propostas Legislativas de sua autoria</th>\n",
              "      <th>Propostas Legislativas relatadas</th>\n",
              "      <th>Votações nominais</th>\n",
              "      <th>Discursos em plenário</th>\n",
              "      <th>Presenças em plenário</th>\n",
              "      <th>Ausencias justificadas em plenario</th>\n",
              "      <th>Ausências não justificadas em plenario</th>\n",
              "      <th>Presenças em Comissões</th>\n",
              "      <th>Ausências justificadas em comissões</th>\n",
              "      <th>Ausências não justificadas em comissões</th>\n",
              "      <th>Nome e Partido</th>\n",
              "    </tr>\n",
              "  </thead>\n",
              "  <tbody>\n",
              "    <tr>\n",
              "      <th>0</th>\n",
              "      <td>Abílio Santana</td>\n",
              "      <td>204554</td>\n",
              "      <td>PL</td>\n",
              "      <td>BA</td>\n",
              "      <td>76</td>\n",
              "      <td>0</td>\n",
              "      <td>747</td>\n",
              "      <td>0</td>\n",
              "      <td>128</td>\n",
              "      <td>3</td>\n",
              "      <td>1</td>\n",
              "      <td>66</td>\n",
              "      <td>5</td>\n",
              "      <td>6</td>\n",
              "      <td>Abílio Santana PL</td>\n",
              "    </tr>\n",
              "    <tr>\n",
              "      <th>1</th>\n",
              "      <td>Abou Anni</td>\n",
              "      <td>204521</td>\n",
              "      <td>UNIÃO</td>\n",
              "      <td>SP</td>\n",
              "      <td>40</td>\n",
              "      <td>2</td>\n",
              "      <td>748</td>\n",
              "      <td>0</td>\n",
              "      <td>130</td>\n",
              "      <td>0</td>\n",
              "      <td>2</td>\n",
              "      <td>58</td>\n",
              "      <td>0</td>\n",
              "      <td>15</td>\n",
              "      <td>Abou Anni UNIÃO</td>\n",
              "    </tr>\n",
              "    <tr>\n",
              "      <th>2</th>\n",
              "      <td>Acácio Favacho</td>\n",
              "      <td>204379</td>\n",
              "      <td>PROS</td>\n",
              "      <td>AP</td>\n",
              "      <td>65</td>\n",
              "      <td>3</td>\n",
              "      <td>758</td>\n",
              "      <td>17</td>\n",
              "      <td>129</td>\n",
              "      <td>3</td>\n",
              "      <td>0</td>\n",
              "      <td>41</td>\n",
              "      <td>3</td>\n",
              "      <td>55</td>\n",
              "      <td>Acácio Favacho PROS</td>\n",
              "    </tr>\n",
              "    <tr>\n",
              "      <th>3</th>\n",
              "      <td>Adolfo Viana</td>\n",
              "      <td>204560</td>\n",
              "      <td>PSDB</td>\n",
              "      <td>BA</td>\n",
              "      <td>25</td>\n",
              "      <td>18</td>\n",
              "      <td>745</td>\n",
              "      <td>2</td>\n",
              "      <td>125</td>\n",
              "      <td>0</td>\n",
              "      <td>7</td>\n",
              "      <td>64</td>\n",
              "      <td>0</td>\n",
              "      <td>44</td>\n",
              "      <td>Adolfo Viana PSDB</td>\n",
              "    </tr>\n",
              "    <tr>\n",
              "      <th>4</th>\n",
              "      <td>Adriana Ventura</td>\n",
              "      <td>204528</td>\n",
              "      <td>NOVO</td>\n",
              "      <td>SP</td>\n",
              "      <td>298</td>\n",
              "      <td>23</td>\n",
              "      <td>762</td>\n",
              "      <td>118</td>\n",
              "      <td>132</td>\n",
              "      <td>0</td>\n",
              "      <td>0</td>\n",
              "      <td>249</td>\n",
              "      <td>0</td>\n",
              "      <td>0</td>\n",
              "      <td>Adriana Ventura NOVO</td>\n",
              "    </tr>\n",
              "  </tbody>\n",
              "</table>\n",
              "</div>\n",
              "      <button class=\"colab-df-convert\" onclick=\"convertToInteractive('df-41417007-a19d-47d2-8e36-3d4d94a07012')\"\n",
              "              title=\"Convert this dataframe to an interactive table.\"\n",
              "              style=\"display:none;\">\n",
              "        \n",
              "  <svg xmlns=\"http://www.w3.org/2000/svg\" height=\"24px\"viewBox=\"0 0 24 24\"\n",
              "       width=\"24px\">\n",
              "    <path d=\"M0 0h24v24H0V0z\" fill=\"none\"/>\n",
              "    <path d=\"M18.56 5.44l.94 2.06.94-2.06 2.06-.94-2.06-.94-.94-2.06-.94 2.06-2.06.94zm-11 1L8.5 8.5l.94-2.06 2.06-.94-2.06-.94L8.5 2.5l-.94 2.06-2.06.94zm10 10l.94 2.06.94-2.06 2.06-.94-2.06-.94-.94-2.06-.94 2.06-2.06.94z\"/><path d=\"M17.41 7.96l-1.37-1.37c-.4-.4-.92-.59-1.43-.59-.52 0-1.04.2-1.43.59L10.3 9.45l-7.72 7.72c-.78.78-.78 2.05 0 2.83L4 21.41c.39.39.9.59 1.41.59.51 0 1.02-.2 1.41-.59l7.78-7.78 2.81-2.81c.8-.78.8-2.07 0-2.86zM5.41 20L4 18.59l7.72-7.72 1.47 1.35L5.41 20z\"/>\n",
              "  </svg>\n",
              "      </button>\n",
              "      \n",
              "  <style>\n",
              "    .colab-df-container {\n",
              "      display:flex;\n",
              "      flex-wrap:wrap;\n",
              "      gap: 12px;\n",
              "    }\n",
              "\n",
              "    .colab-df-convert {\n",
              "      background-color: #E8F0FE;\n",
              "      border: none;\n",
              "      border-radius: 50%;\n",
              "      cursor: pointer;\n",
              "      display: none;\n",
              "      fill: #1967D2;\n",
              "      height: 32px;\n",
              "      padding: 0 0 0 0;\n",
              "      width: 32px;\n",
              "    }\n",
              "\n",
              "    .colab-df-convert:hover {\n",
              "      background-color: #E2EBFA;\n",
              "      box-shadow: 0px 1px 2px rgba(60, 64, 67, 0.3), 0px 1px 3px 1px rgba(60, 64, 67, 0.15);\n",
              "      fill: #174EA6;\n",
              "    }\n",
              "\n",
              "    [theme=dark] .colab-df-convert {\n",
              "      background-color: #3B4455;\n",
              "      fill: #D2E3FC;\n",
              "    }\n",
              "\n",
              "    [theme=dark] .colab-df-convert:hover {\n",
              "      background-color: #434B5C;\n",
              "      box-shadow: 0px 1px 3px 1px rgba(0, 0, 0, 0.15);\n",
              "      filter: drop-shadow(0px 1px 2px rgba(0, 0, 0, 0.3));\n",
              "      fill: #FFFFFF;\n",
              "    }\n",
              "  </style>\n",
              "\n",
              "      <script>\n",
              "        const buttonEl =\n",
              "          document.querySelector('#df-41417007-a19d-47d2-8e36-3d4d94a07012 button.colab-df-convert');\n",
              "        buttonEl.style.display =\n",
              "          google.colab.kernel.accessAllowed ? 'block' : 'none';\n",
              "\n",
              "        async function convertToInteractive(key) {\n",
              "          const element = document.querySelector('#df-41417007-a19d-47d2-8e36-3d4d94a07012');\n",
              "          const dataTable =\n",
              "            await google.colab.kernel.invokeFunction('convertToInteractive',\n",
              "                                                     [key], {});\n",
              "          if (!dataTable) return;\n",
              "\n",
              "          const docLinkHtml = 'Like what you see? Visit the ' +\n",
              "            '<a target=\"_blank\" href=https://colab.research.google.com/notebooks/data_table.ipynb>data table notebook</a>'\n",
              "            + ' to learn more about interactive tables.';\n",
              "          element.innerHTML = '';\n",
              "          dataTable['output_type'] = 'display_data';\n",
              "          await google.colab.output.renderOutput(dataTable, element);\n",
              "          const docLink = document.createElement('div');\n",
              "          docLink.innerHTML = docLinkHtml;\n",
              "          element.appendChild(docLink);\n",
              "        }\n",
              "      </script>\n",
              "    </div>\n",
              "  </div>\n",
              "  "
            ]
          },
          "metadata": {},
          "execution_count": 4
        }
      ],
      "source": [
        "df['Nome e Partido'] = (df['nome_deputado'] + \" \" + df['partido'])\n",
        "df['Ausências não justificadas em plenario'] = df['Ausências não justificadas em plenario'].apply(lambda x: x[:-5]).astype('int')\n",
        "df['Ausencias justificadas em plenario'] = df['Ausencias justificadas em plenario'].apply(lambda x: x[:-5]).astype('int')\n",
        "df['Presenças em plenário'] = df['Presenças em plenário'].apply(lambda x: x[:-5]).astype('int')\n",
        "df['Presenças em Comissões'] = df['Presenças em Comissões'].apply(lambda x: x[:-9]).astype('int')\n",
        "df['Ausências justificadas em comissões'] = df['Ausências justificadas em comissões'].apply(lambda x: x[:-9]).astype('int')\n",
        "df['Ausências não justificadas em comissões'] = df['Ausências não justificadas em comissões'].apply(lambda x: x[:-9]).astype('int')\n",
        "df.head()"
      ]
    },
    {
      "cell_type": "markdown",
      "source": [
        "Foi realizado um estudo sobre a atuação em 2021 dos 513 deputados federais que estão atualmente em mandato.\n",
        "A atuações utilizadas neste estudo foram:\n",
        "1. Propostas Legislativas de autoria de cada deputado;\n",
        "2. Propostas Legislativas relatadas por cada um dos deputados; e\n",
        "3. A presença de cada deputado em Plenário, assim como a ausência sem justificativa.\n",
        "\n",
        "- Foi observado que os 10 deputados com mais propostas de sua autoria representam cerca de 13% do total de propostas do ano de 2021.\n",
        "- Foi observado também, que embora o Dep. Marcelo Ramos que está PSD tenha 1476 propostas de sua autoria, o PT é o partido que representa o maior número de propostas legislativas de autoria de seus deputados. (Esta informação pode ser consultada abaixo, onde constam os gráficos para visualização.)\n",
        "\n",
        "\n",
        "- Foi observado que os 10 deputados com mais propostas relatadas representam cerca de 29% do total de relatorias do ano de 2021.\n",
        "- Foi observado também, que embora o Dep. Marcelo Ramos que está no PSD tenha 1385 relatorias, o PCdoB é o partido em que as relatorias foram bem melhor distribuídas entre seus deputados.\n",
        "\n",
        "- Por fim, foi observada relação entre propostas legislativas de autorias dos deputados x relatadas por partido. Não foi possível observar nesta análise nenhuma relação entre a quantidade de autoria nas propostas e a relatoria."
      ],
      "metadata": {
        "id": "sH1FZVvSCzJN"
      }
    },
    {
      "cell_type": "markdown",
      "metadata": {
        "id": "YTH2dY2A4RSw"
      },
      "source": [
        "### 1 - 10 deputados com mais Propostas Legislativas de sua autoria"
      ]
    },
    {
      "cell_type": "code",
      "execution_count": null,
      "metadata": {
        "id": "xdf2clwd4RSx",
        "outputId": "7619123b-8b81-4f9f-e89c-8b7fa87c9c8b",
        "colab": {
          "base_uri": "https://localhost:8080/",
          "height": 424
        }
      },
      "outputs": [
        {
          "output_type": "execute_result",
          "data": {
            "text/plain": [
              "             Nome e Partido  Propostas Legislativas de sua autoria\n",
              "0         Abílio Santana PL                                     76\n",
              "1           Abou Anni UNIÃO                                     40\n",
              "2       Acácio Favacho PROS                                     65\n",
              "3         Adolfo Viana PSDB                                     25\n",
              "4      Adriana Ventura NOVO                                    298\n",
              "..                      ...                                    ...\n",
              "508            Zé Carlos PT                                    299\n",
              "509              Zé Neto PT                                    171\n",
              "510  Zé Silva SOLIDARIEDADE                                     88\n",
              "511             Zé Vitor PL                                    121\n",
              "512          Zeca Dirceu PT                                    129\n",
              "\n",
              "[513 rows x 2 columns]"
            ],
            "text/html": [
              "\n",
              "  <div id=\"df-e34be181-93f9-451c-8824-5580dfeccf1e\">\n",
              "    <div class=\"colab-df-container\">\n",
              "      <div>\n",
              "<style scoped>\n",
              "    .dataframe tbody tr th:only-of-type {\n",
              "        vertical-align: middle;\n",
              "    }\n",
              "\n",
              "    .dataframe tbody tr th {\n",
              "        vertical-align: top;\n",
              "    }\n",
              "\n",
              "    .dataframe thead th {\n",
              "        text-align: right;\n",
              "    }\n",
              "</style>\n",
              "<table border=\"1\" class=\"dataframe\">\n",
              "  <thead>\n",
              "    <tr style=\"text-align: right;\">\n",
              "      <th></th>\n",
              "      <th>Nome e Partido</th>\n",
              "      <th>Propostas Legislativas de sua autoria</th>\n",
              "    </tr>\n",
              "  </thead>\n",
              "  <tbody>\n",
              "    <tr>\n",
              "      <th>0</th>\n",
              "      <td>Abílio Santana PL</td>\n",
              "      <td>76</td>\n",
              "    </tr>\n",
              "    <tr>\n",
              "      <th>1</th>\n",
              "      <td>Abou Anni UNIÃO</td>\n",
              "      <td>40</td>\n",
              "    </tr>\n",
              "    <tr>\n",
              "      <th>2</th>\n",
              "      <td>Acácio Favacho PROS</td>\n",
              "      <td>65</td>\n",
              "    </tr>\n",
              "    <tr>\n",
              "      <th>3</th>\n",
              "      <td>Adolfo Viana PSDB</td>\n",
              "      <td>25</td>\n",
              "    </tr>\n",
              "    <tr>\n",
              "      <th>4</th>\n",
              "      <td>Adriana Ventura NOVO</td>\n",
              "      <td>298</td>\n",
              "    </tr>\n",
              "    <tr>\n",
              "      <th>...</th>\n",
              "      <td>...</td>\n",
              "      <td>...</td>\n",
              "    </tr>\n",
              "    <tr>\n",
              "      <th>508</th>\n",
              "      <td>Zé Carlos PT</td>\n",
              "      <td>299</td>\n",
              "    </tr>\n",
              "    <tr>\n",
              "      <th>509</th>\n",
              "      <td>Zé Neto PT</td>\n",
              "      <td>171</td>\n",
              "    </tr>\n",
              "    <tr>\n",
              "      <th>510</th>\n",
              "      <td>Zé Silva SOLIDARIEDADE</td>\n",
              "      <td>88</td>\n",
              "    </tr>\n",
              "    <tr>\n",
              "      <th>511</th>\n",
              "      <td>Zé Vitor PL</td>\n",
              "      <td>121</td>\n",
              "    </tr>\n",
              "    <tr>\n",
              "      <th>512</th>\n",
              "      <td>Zeca Dirceu PT</td>\n",
              "      <td>129</td>\n",
              "    </tr>\n",
              "  </tbody>\n",
              "</table>\n",
              "<p>513 rows × 2 columns</p>\n",
              "</div>\n",
              "      <button class=\"colab-df-convert\" onclick=\"convertToInteractive('df-e34be181-93f9-451c-8824-5580dfeccf1e')\"\n",
              "              title=\"Convert this dataframe to an interactive table.\"\n",
              "              style=\"display:none;\">\n",
              "        \n",
              "  <svg xmlns=\"http://www.w3.org/2000/svg\" height=\"24px\"viewBox=\"0 0 24 24\"\n",
              "       width=\"24px\">\n",
              "    <path d=\"M0 0h24v24H0V0z\" fill=\"none\"/>\n",
              "    <path d=\"M18.56 5.44l.94 2.06.94-2.06 2.06-.94-2.06-.94-.94-2.06-.94 2.06-2.06.94zm-11 1L8.5 8.5l.94-2.06 2.06-.94-2.06-.94L8.5 2.5l-.94 2.06-2.06.94zm10 10l.94 2.06.94-2.06 2.06-.94-2.06-.94-.94-2.06-.94 2.06-2.06.94z\"/><path d=\"M17.41 7.96l-1.37-1.37c-.4-.4-.92-.59-1.43-.59-.52 0-1.04.2-1.43.59L10.3 9.45l-7.72 7.72c-.78.78-.78 2.05 0 2.83L4 21.41c.39.39.9.59 1.41.59.51 0 1.02-.2 1.41-.59l7.78-7.78 2.81-2.81c.8-.78.8-2.07 0-2.86zM5.41 20L4 18.59l7.72-7.72 1.47 1.35L5.41 20z\"/>\n",
              "  </svg>\n",
              "      </button>\n",
              "      \n",
              "  <style>\n",
              "    .colab-df-container {\n",
              "      display:flex;\n",
              "      flex-wrap:wrap;\n",
              "      gap: 12px;\n",
              "    }\n",
              "\n",
              "    .colab-df-convert {\n",
              "      background-color: #E8F0FE;\n",
              "      border: none;\n",
              "      border-radius: 50%;\n",
              "      cursor: pointer;\n",
              "      display: none;\n",
              "      fill: #1967D2;\n",
              "      height: 32px;\n",
              "      padding: 0 0 0 0;\n",
              "      width: 32px;\n",
              "    }\n",
              "\n",
              "    .colab-df-convert:hover {\n",
              "      background-color: #E2EBFA;\n",
              "      box-shadow: 0px 1px 2px rgba(60, 64, 67, 0.3), 0px 1px 3px 1px rgba(60, 64, 67, 0.15);\n",
              "      fill: #174EA6;\n",
              "    }\n",
              "\n",
              "    [theme=dark] .colab-df-convert {\n",
              "      background-color: #3B4455;\n",
              "      fill: #D2E3FC;\n",
              "    }\n",
              "\n",
              "    [theme=dark] .colab-df-convert:hover {\n",
              "      background-color: #434B5C;\n",
              "      box-shadow: 0px 1px 3px 1px rgba(0, 0, 0, 0.15);\n",
              "      filter: drop-shadow(0px 1px 2px rgba(0, 0, 0, 0.3));\n",
              "      fill: #FFFFFF;\n",
              "    }\n",
              "  </style>\n",
              "\n",
              "      <script>\n",
              "        const buttonEl =\n",
              "          document.querySelector('#df-e34be181-93f9-451c-8824-5580dfeccf1e button.colab-df-convert');\n",
              "        buttonEl.style.display =\n",
              "          google.colab.kernel.accessAllowed ? 'block' : 'none';\n",
              "\n",
              "        async function convertToInteractive(key) {\n",
              "          const element = document.querySelector('#df-e34be181-93f9-451c-8824-5580dfeccf1e');\n",
              "          const dataTable =\n",
              "            await google.colab.kernel.invokeFunction('convertToInteractive',\n",
              "                                                     [key], {});\n",
              "          if (!dataTable) return;\n",
              "\n",
              "          const docLinkHtml = 'Like what you see? Visit the ' +\n",
              "            '<a target=\"_blank\" href=https://colab.research.google.com/notebooks/data_table.ipynb>data table notebook</a>'\n",
              "            + ' to learn more about interactive tables.';\n",
              "          element.innerHTML = '';\n",
              "          dataTable['output_type'] = 'display_data';\n",
              "          await google.colab.output.renderOutput(dataTable, element);\n",
              "          const docLink = document.createElement('div');\n",
              "          docLink.innerHTML = docLinkHtml;\n",
              "          element.appendChild(docLink);\n",
              "        }\n",
              "      </script>\n",
              "    </div>\n",
              "  </div>\n",
              "  "
            ]
          },
          "metadata": {},
          "execution_count": 5
        }
      ],
      "source": [
        "# criado um dataframe com apenas três colunas, para que seja mais fácil a retirada de informações dos dados.\n",
        "df1 = pd.DataFrame(df, \n",
        "    columns = ['Nome e Partido','Propostas Legislativas de sua autoria'])\n",
        "df1"
      ]
    },
    {
      "cell_type": "code",
      "execution_count": null,
      "metadata": {
        "id": "5YCfKLan4RSz",
        "outputId": "ee3c0e91-a989-432e-d28b-02f1a44b60cd",
        "colab": {
          "base_uri": "https://localhost:8080/",
          "height": 363
        }
      },
      "outputs": [
        {
          "output_type": "display_data",
          "data": {
            "text/plain": [
              "              Nome e Partido  Propostas Legislativas de sua autoria  \\\n",
              "326        Marcelo Ramos PSD                                   1476   \n",
              "62              Bohn Gass PT                                   1324   \n",
              "117        Danilo Cabral PSB                                   1188   \n",
              "507       Wolney Queiroz PDT                                   1118   \n",
              "161           Erika Kokay PT                                    973   \n",
              "281      Kim Kataguiri UNIÃO                                    528   \n",
              "247           João Daniel PT                                    505   \n",
              "231  Hugo Motta REPUBLICANOS                                    505   \n",
              "441       Rogério Correia PT                                    497   \n",
              "264          José Ricardo PT                                    494   \n",
              "\n",
              "     Percentual  \n",
              "326    2.273883  \n",
              "62     2.039716  \n",
              "117    1.830198  \n",
              "507    1.722358  \n",
              "161    1.498976  \n",
              "281    0.813421  \n",
              "247    0.777988  \n",
              "231    0.777988  \n",
              "441    0.765664  \n",
              "264    0.761042  "
            ],
            "text/html": [
              "\n",
              "  <div id=\"df-c390daa1-2235-431d-9699-b489493440e7\">\n",
              "    <div class=\"colab-df-container\">\n",
              "      <div>\n",
              "<style scoped>\n",
              "    .dataframe tbody tr th:only-of-type {\n",
              "        vertical-align: middle;\n",
              "    }\n",
              "\n",
              "    .dataframe tbody tr th {\n",
              "        vertical-align: top;\n",
              "    }\n",
              "\n",
              "    .dataframe thead th {\n",
              "        text-align: right;\n",
              "    }\n",
              "</style>\n",
              "<table border=\"1\" class=\"dataframe\">\n",
              "  <thead>\n",
              "    <tr style=\"text-align: right;\">\n",
              "      <th></th>\n",
              "      <th>Nome e Partido</th>\n",
              "      <th>Propostas Legislativas de sua autoria</th>\n",
              "      <th>Percentual</th>\n",
              "    </tr>\n",
              "  </thead>\n",
              "  <tbody>\n",
              "    <tr>\n",
              "      <th>326</th>\n",
              "      <td>Marcelo Ramos PSD</td>\n",
              "      <td>1476</td>\n",
              "      <td>2.273883</td>\n",
              "    </tr>\n",
              "    <tr>\n",
              "      <th>62</th>\n",
              "      <td>Bohn Gass PT</td>\n",
              "      <td>1324</td>\n",
              "      <td>2.039716</td>\n",
              "    </tr>\n",
              "    <tr>\n",
              "      <th>117</th>\n",
              "      <td>Danilo Cabral PSB</td>\n",
              "      <td>1188</td>\n",
              "      <td>1.830198</td>\n",
              "    </tr>\n",
              "    <tr>\n",
              "      <th>507</th>\n",
              "      <td>Wolney Queiroz PDT</td>\n",
              "      <td>1118</td>\n",
              "      <td>1.722358</td>\n",
              "    </tr>\n",
              "    <tr>\n",
              "      <th>161</th>\n",
              "      <td>Erika Kokay PT</td>\n",
              "      <td>973</td>\n",
              "      <td>1.498976</td>\n",
              "    </tr>\n",
              "    <tr>\n",
              "      <th>281</th>\n",
              "      <td>Kim Kataguiri UNIÃO</td>\n",
              "      <td>528</td>\n",
              "      <td>0.813421</td>\n",
              "    </tr>\n",
              "    <tr>\n",
              "      <th>247</th>\n",
              "      <td>João Daniel PT</td>\n",
              "      <td>505</td>\n",
              "      <td>0.777988</td>\n",
              "    </tr>\n",
              "    <tr>\n",
              "      <th>231</th>\n",
              "      <td>Hugo Motta REPUBLICANOS</td>\n",
              "      <td>505</td>\n",
              "      <td>0.777988</td>\n",
              "    </tr>\n",
              "    <tr>\n",
              "      <th>441</th>\n",
              "      <td>Rogério Correia PT</td>\n",
              "      <td>497</td>\n",
              "      <td>0.765664</td>\n",
              "    </tr>\n",
              "    <tr>\n",
              "      <th>264</th>\n",
              "      <td>José Ricardo PT</td>\n",
              "      <td>494</td>\n",
              "      <td>0.761042</td>\n",
              "    </tr>\n",
              "  </tbody>\n",
              "</table>\n",
              "</div>\n",
              "      <button class=\"colab-df-convert\" onclick=\"convertToInteractive('df-c390daa1-2235-431d-9699-b489493440e7')\"\n",
              "              title=\"Convert this dataframe to an interactive table.\"\n",
              "              style=\"display:none;\">\n",
              "        \n",
              "  <svg xmlns=\"http://www.w3.org/2000/svg\" height=\"24px\"viewBox=\"0 0 24 24\"\n",
              "       width=\"24px\">\n",
              "    <path d=\"M0 0h24v24H0V0z\" fill=\"none\"/>\n",
              "    <path d=\"M18.56 5.44l.94 2.06.94-2.06 2.06-.94-2.06-.94-.94-2.06-.94 2.06-2.06.94zm-11 1L8.5 8.5l.94-2.06 2.06-.94-2.06-.94L8.5 2.5l-.94 2.06-2.06.94zm10 10l.94 2.06.94-2.06 2.06-.94-2.06-.94-.94-2.06-.94 2.06-2.06.94z\"/><path d=\"M17.41 7.96l-1.37-1.37c-.4-.4-.92-.59-1.43-.59-.52 0-1.04.2-1.43.59L10.3 9.45l-7.72 7.72c-.78.78-.78 2.05 0 2.83L4 21.41c.39.39.9.59 1.41.59.51 0 1.02-.2 1.41-.59l7.78-7.78 2.81-2.81c.8-.78.8-2.07 0-2.86zM5.41 20L4 18.59l7.72-7.72 1.47 1.35L5.41 20z\"/>\n",
              "  </svg>\n",
              "      </button>\n",
              "      \n",
              "  <style>\n",
              "    .colab-df-container {\n",
              "      display:flex;\n",
              "      flex-wrap:wrap;\n",
              "      gap: 12px;\n",
              "    }\n",
              "\n",
              "    .colab-df-convert {\n",
              "      background-color: #E8F0FE;\n",
              "      border: none;\n",
              "      border-radius: 50%;\n",
              "      cursor: pointer;\n",
              "      display: none;\n",
              "      fill: #1967D2;\n",
              "      height: 32px;\n",
              "      padding: 0 0 0 0;\n",
              "      width: 32px;\n",
              "    }\n",
              "\n",
              "    .colab-df-convert:hover {\n",
              "      background-color: #E2EBFA;\n",
              "      box-shadow: 0px 1px 2px rgba(60, 64, 67, 0.3), 0px 1px 3px 1px rgba(60, 64, 67, 0.15);\n",
              "      fill: #174EA6;\n",
              "    }\n",
              "\n",
              "    [theme=dark] .colab-df-convert {\n",
              "      background-color: #3B4455;\n",
              "      fill: #D2E3FC;\n",
              "    }\n",
              "\n",
              "    [theme=dark] .colab-df-convert:hover {\n",
              "      background-color: #434B5C;\n",
              "      box-shadow: 0px 1px 3px 1px rgba(0, 0, 0, 0.15);\n",
              "      filter: drop-shadow(0px 1px 2px rgba(0, 0, 0, 0.3));\n",
              "      fill: #FFFFFF;\n",
              "    }\n",
              "  </style>\n",
              "\n",
              "      <script>\n",
              "        const buttonEl =\n",
              "          document.querySelector('#df-c390daa1-2235-431d-9699-b489493440e7 button.colab-df-convert');\n",
              "        buttonEl.style.display =\n",
              "          google.colab.kernel.accessAllowed ? 'block' : 'none';\n",
              "\n",
              "        async function convertToInteractive(key) {\n",
              "          const element = document.querySelector('#df-c390daa1-2235-431d-9699-b489493440e7');\n",
              "          const dataTable =\n",
              "            await google.colab.kernel.invokeFunction('convertToInteractive',\n",
              "                                                     [key], {});\n",
              "          if (!dataTable) return;\n",
              "\n",
              "          const docLinkHtml = 'Like what you see? Visit the ' +\n",
              "            '<a target=\"_blank\" href=https://colab.research.google.com/notebooks/data_table.ipynb>data table notebook</a>'\n",
              "            + ' to learn more about interactive tables.';\n",
              "          element.innerHTML = '';\n",
              "          dataTable['output_type'] = 'display_data';\n",
              "          await google.colab.output.renderOutput(dataTable, element);\n",
              "          const docLink = document.createElement('div');\n",
              "          docLink.innerHTML = docLinkHtml;\n",
              "          element.appendChild(docLink);\n",
              "        }\n",
              "      </script>\n",
              "    </div>\n",
              "  </div>\n",
              "  "
            ]
          },
          "metadata": {}
        }
      ],
      "source": [
        "# criada a váriavel df_autoria, com a finalidade de ordenar a tabela pelas propostas legislativas de sua autoria.\n",
        "# criada uma coluna com o percentual que representa as propostas de cada deputado.\n",
        "df1['Percentual'] = (df1['Propostas Legislativas de sua autoria'] / \n",
        "                  df1['Propostas Legislativas de sua autoria'].sum()) * 100\n",
        "df_autoria = df1.sort_values(by=['Propostas Legislativas de sua autoria'], ascending=False).head(10).copy()\n",
        "display(df_autoria)"
      ]
    },
    {
      "cell_type": "code",
      "execution_count": null,
      "metadata": {
        "id": "U84Wcint4RS0",
        "outputId": "78247361-ff5a-45e9-e17f-87d71c2dadfc",
        "colab": {
          "base_uri": "https://localhost:8080/"
        }
      },
      "outputs": [
        {
          "output_type": "execute_result",
          "data": {
            "text/plain": [
              "13.261234613547781"
            ]
          },
          "metadata": {},
          "execution_count": 7
        }
      ],
      "source": [
        "# percentual dos 10 deputados que mais tem propostas legislativas de sua autoria, em relação ao total.\n",
        "df_autoria['Percentual'].sum()"
      ]
    },
    {
      "cell_type": "code",
      "execution_count": null,
      "metadata": {
        "id": "DkWatJKb4RS1",
        "outputId": "ece24fc4-0492-4ed1-f1cd-5c7e2353a49c",
        "colab": {
          "base_uri": "https://localhost:8080/"
        }
      },
      "outputs": [
        {
          "output_type": "execute_result",
          "data": {
            "text/plain": [
              "count     513.000000\n",
              "mean      126.532164\n",
              "std       154.426002\n",
              "min         0.000000\n",
              "25%        38.000000\n",
              "50%        79.000000\n",
              "75%       170.000000\n",
              "max      1476.000000\n",
              "Name: Propostas Legislativas de sua autoria, dtype: float64"
            ]
          },
          "metadata": {},
          "execution_count": 8
        }
      ],
      "source": [
        "df1['Propostas Legislativas de sua autoria'].describe()"
      ]
    },
    {
      "cell_type": "markdown",
      "metadata": {
        "id": "eaZAMPbY4RS2"
      },
      "source": [
        "Foi realizado um estudo sobre as propostas legislativas da autoria dos 513 deputados federais no ano de 2021.\\\n",
        "Em média foram elaboradas 127 propostas legislativas por deputado.\\\n",
        "25% dos deputados criaram até 38 propostas e 50% criaram até 79 propostas.\\\n",
        "75% criaram até 170 prospostas, sendo que o maior número de propostas criadas foram de 1476, pelo deputado Marcelo Ramos do PSD.\t"
      ]
    },
    {
      "cell_type": "code",
      "execution_count": null,
      "metadata": {
        "id": "dhzyB2AL4RS3",
        "outputId": "0ecb7f0d-5784-4178-91fa-7b14f4ee91e3",
        "colab": {
          "base_uri": "https://localhost:8080/",
          "height": 364
        }
      },
      "outputs": [
        {
          "output_type": "execute_result",
          "data": {
            "text/plain": [
              "Text(0.5, 0.98, 'Deputados com mais Propostas Legislativas de sua autoria')"
            ]
          },
          "metadata": {},
          "execution_count": 9
        },
        {
          "output_type": "display_data",
          "data": {
            "text/plain": [
              "<Figure size 1584x360 with 1 Axes>"
            ],
            "image/png": "[encoded data removed]"
          },
          "metadata": {
            "needs_background": "light"
          }
        }
      ],
      "source": [
        "# criado um gráfico para melhor visualização.\n",
        "plt.figure(figsize = (22,5))\n",
        "sns.barplot(x = \"Nome e Partido\", y= \"Propostas Legislativas de sua autoria\", data = df_autoria,  palette=\"pastel\")\n",
        "plt.xlabel('', fontsize=15)\n",
        "plt.ylabel('Quantidade', fontsize=10)\n",
        "plt.suptitle(\"Deputados com mais Propostas Legislativas de sua autoria\", fontsize=12)"
      ]
    },
    {
      "cell_type": "markdown",
      "metadata": {
        "id": "-5fLqr_-4RS4"
      },
      "source": [
        "### 2 - 10 deputados com menos Propostas Legislativas de sua autoria\n",
        "\n",
        "2.1 - Os seguintes deputados não tem nenhuma proposta legislativa de sua autoria./\n",
        "- Nelho Bezerra do PROS;\n",
        "- Mauro Benevides Filho do PDT;\n",
        "- Josias Gomes do PT;\n",
        "- Patrick Dorneles do PSD; e\n",
        "- Pedro Paulo do PSD.\n"
      ]
    },
    {
      "cell_type": "code",
      "execution_count": null,
      "metadata": {
        "id": "p1SHujLI4RS5",
        "outputId": "2947f447-a67b-4e99-9b2b-bf5222114e49"
      },
      "outputs": [
        {
          "data": {
            "text/html": [
              "<div>\n",
              "<style scoped>\n",
              "    .dataframe tbody tr th:only-of-type {\n",
              "        vertical-align: middle;\n",
              "    }\n",
              "\n",
              "    .dataframe tbody tr th {\n",
              "        vertical-align: top;\n",
              "    }\n",
              "\n",
              "    .dataframe thead th {\n",
              "        text-align: right;\n",
              "    }\n",
              "</style>\n",
              "<table border=\"1\" class=\"dataframe\">\n",
              "  <thead>\n",
              "    <tr style=\"text-align: right;\">\n",
              "      <th></th>\n",
              "      <th>Nome e Partido</th>\n",
              "      <th>Propostas Legislativas de sua autoria</th>\n",
              "      <th>Percentual</th>\n",
              "    </tr>\n",
              "  </thead>\n",
              "  <tbody>\n",
              "    <tr>\n",
              "      <th>358</th>\n",
              "      <td>Nelho Bezerra PROS</td>\n",
              "      <td>0</td>\n",
              "      <td>0.000000</td>\n",
              "    </tr>\n",
              "    <tr>\n",
              "      <th>348</th>\n",
              "      <td>Mauro Benevides Filho PDT</td>\n",
              "      <td>0</td>\n",
              "      <td>0.000000</td>\n",
              "    </tr>\n",
              "    <tr>\n",
              "      <th>267</th>\n",
              "      <td>Josias Gomes PT</td>\n",
              "      <td>0</td>\n",
              "      <td>0.000000</td>\n",
              "    </tr>\n",
              "    <tr>\n",
              "      <th>384</th>\n",
              "      <td>Patrick Dorneles PSD</td>\n",
              "      <td>0</td>\n",
              "      <td>0.000000</td>\n",
              "    </tr>\n",
              "    <tr>\n",
              "      <th>405</th>\n",
              "      <td>Pedro Paulo PSD</td>\n",
              "      <td>0</td>\n",
              "      <td>0.000000</td>\n",
              "    </tr>\n",
              "    <tr>\n",
              "      <th>249</th>\n",
              "      <td>João Roma REPUBLICANOS</td>\n",
              "      <td>1</td>\n",
              "      <td>0.001541</td>\n",
              "    </tr>\n",
              "    <tr>\n",
              "      <th>371</th>\n",
              "      <td>Onyx Lorenzoni UNIÃO</td>\n",
              "      <td>1</td>\n",
              "      <td>0.001541</td>\n",
              "    </tr>\n",
              "    <tr>\n",
              "      <th>262</th>\n",
              "      <td>José Nunes PSD</td>\n",
              "      <td>1</td>\n",
              "      <td>0.001541</td>\n",
              "    </tr>\n",
              "    <tr>\n",
              "      <th>475</th>\n",
              "      <td>Tereza Cristina PP</td>\n",
              "      <td>1</td>\n",
              "      <td>0.001541</td>\n",
              "    </tr>\n",
              "    <tr>\n",
              "      <th>256</th>\n",
              "      <td>Jorielson PL</td>\n",
              "      <td>2</td>\n",
              "      <td>0.003081</td>\n",
              "    </tr>\n",
              "  </tbody>\n",
              "</table>\n",
              "</div>"
            ],
            "text/plain": [
              "                Nome e Partido  Propostas Legislativas de sua autoria  \\\n",
              "358         Nelho Bezerra PROS                                      0   \n",
              "348  Mauro Benevides Filho PDT                                      0   \n",
              "267            Josias Gomes PT                                      0   \n",
              "384       Patrick Dorneles PSD                                      0   \n",
              "405            Pedro Paulo PSD                                      0   \n",
              "249     João Roma REPUBLICANOS                                      1   \n",
              "371       Onyx Lorenzoni UNIÃO                                      1   \n",
              "262             José Nunes PSD                                      1   \n",
              "475         Tereza Cristina PP                                      1   \n",
              "256               Jorielson PL                                      2   \n",
              "\n",
              "     Percentual  \n",
              "358    0.000000  \n",
              "348    0.000000  \n",
              "267    0.000000  \n",
              "384    0.000000  \n",
              "405    0.000000  \n",
              "249    0.001541  \n",
              "371    0.001541  \n",
              "262    0.001541  \n",
              "475    0.001541  \n",
              "256    0.003081  "
            ]
          },
          "execution_count": 36,
          "metadata": {},
          "output_type": "execute_result"
        }
      ],
      "source": [
        "df_autoria_n = df1.sort_values(by=['Propostas Legislativas de sua autoria'])\n",
        "df_autoria_n.head(10)"
      ]
    },
    {
      "cell_type": "code",
      "execution_count": null,
      "metadata": {
        "id": "5BRFunuW4RS5",
        "outputId": "9d88fe1c-9bb5-41e9-e4b1-a9181ed23c72"
      },
      "outputs": [
        {
          "data": {
            "text/html": [
              "<div>\n",
              "<style scoped>\n",
              "    .dataframe tbody tr th:only-of-type {\n",
              "        vertical-align: middle;\n",
              "    }\n",
              "\n",
              "    .dataframe tbody tr th {\n",
              "        vertical-align: top;\n",
              "    }\n",
              "\n",
              "    .dataframe thead th {\n",
              "        text-align: right;\n",
              "    }\n",
              "</style>\n",
              "<table border=\"1\" class=\"dataframe\">\n",
              "  <thead>\n",
              "    <tr style=\"text-align: right;\">\n",
              "      <th></th>\n",
              "      <th>Nome e Partido</th>\n",
              "      <th>Propostas Legislativas de sua autoria</th>\n",
              "      <th>Percentual</th>\n",
              "    </tr>\n",
              "  </thead>\n",
              "  <tbody>\n",
              "    <tr>\n",
              "      <th>249</th>\n",
              "      <td>João Roma REPUBLICANOS</td>\n",
              "      <td>1</td>\n",
              "      <td>0.001541</td>\n",
              "    </tr>\n",
              "    <tr>\n",
              "      <th>371</th>\n",
              "      <td>Onyx Lorenzoni UNIÃO</td>\n",
              "      <td>1</td>\n",
              "      <td>0.001541</td>\n",
              "    </tr>\n",
              "    <tr>\n",
              "      <th>262</th>\n",
              "      <td>José Nunes PSD</td>\n",
              "      <td>1</td>\n",
              "      <td>0.001541</td>\n",
              "    </tr>\n",
              "    <tr>\n",
              "      <th>475</th>\n",
              "      <td>Tereza Cristina PP</td>\n",
              "      <td>1</td>\n",
              "      <td>0.001541</td>\n",
              "    </tr>\n",
              "    <tr>\n",
              "      <th>256</th>\n",
              "      <td>Jorielson PL</td>\n",
              "      <td>2</td>\n",
              "      <td>0.003081</td>\n",
              "    </tr>\n",
              "    <tr>\n",
              "      <th>448</th>\n",
              "      <td>Rossoni PSDB</td>\n",
              "      <td>2</td>\n",
              "      <td>0.003081</td>\n",
              "    </tr>\n",
              "    <tr>\n",
              "      <th>327</th>\n",
              "      <td>Marcelo Squassoni REPUBLICANOS</td>\n",
              "      <td>2</td>\n",
              "      <td>0.003081</td>\n",
              "    </tr>\n",
              "    <tr>\n",
              "      <th>494</th>\n",
              "      <td>Victor Mendes MDB</td>\n",
              "      <td>2</td>\n",
              "      <td>0.003081</td>\n",
              "    </tr>\n",
              "    <tr>\n",
              "      <th>193</th>\n",
              "      <td>Genecias Noronha SOLIDARIEDADE</td>\n",
              "      <td>3</td>\n",
              "      <td>0.004622</td>\n",
              "    </tr>\n",
              "    <tr>\n",
              "      <th>16</th>\n",
              "      <td>Alcides Rodrigues PATRIOTA</td>\n",
              "      <td>3</td>\n",
              "      <td>0.004622</td>\n",
              "    </tr>\n",
              "  </tbody>\n",
              "</table>\n",
              "</div>"
            ],
            "text/plain": [
              "                     Nome e Partido  Propostas Legislativas de sua autoria  \\\n",
              "249          João Roma REPUBLICANOS                                      1   \n",
              "371            Onyx Lorenzoni UNIÃO                                      1   \n",
              "262                  José Nunes PSD                                      1   \n",
              "475              Tereza Cristina PP                                      1   \n",
              "256                    Jorielson PL                                      2   \n",
              "448                    Rossoni PSDB                                      2   \n",
              "327  Marcelo Squassoni REPUBLICANOS                                      2   \n",
              "494               Victor Mendes MDB                                      2   \n",
              "193  Genecias Noronha SOLIDARIEDADE                                      3   \n",
              "16       Alcides Rodrigues PATRIOTA                                      3   \n",
              "\n",
              "     Percentual  \n",
              "249    0.001541  \n",
              "371    0.001541  \n",
              "262    0.001541  \n",
              "475    0.001541  \n",
              "256    0.003081  \n",
              "448    0.003081  \n",
              "327    0.003081  \n",
              "494    0.003081  \n",
              "193    0.004622  \n",
              "16     0.004622  "
            ]
          },
          "execution_count": 37,
          "metadata": {},
          "output_type": "execute_result"
        }
      ],
      "source": [
        "df_autoria_n1 = df_autoria_n[df_autoria_n['Propostas Legislativas de sua autoria']>0].head(10)\n",
        "df_autoria_n1"
      ]
    },
    {
      "cell_type": "code",
      "execution_count": null,
      "metadata": {
        "id": "TsvTlGTC4RS6",
        "outputId": "a9767a7d-4b61-4ecb-ee55-ef55790a0470"
      },
      "outputs": [
        {
          "data": {
            "text/plain": [
              "0.027730276840597125"
            ]
          },
          "execution_count": 38,
          "metadata": {},
          "output_type": "execute_result"
        }
      ],
      "source": [
        "df_autoria_n1['Percentual'].sum()"
      ]
    },
    {
      "cell_type": "code",
      "execution_count": null,
      "metadata": {
        "id": "BCPJrviO4RS7",
        "outputId": "61eb65cf-5722-4835-9ad0-fb51e6df4ddb"
      },
      "outputs": [
        {
          "data": {
            "text/plain": [
              "Text(0.5, 0.98, 'Deputados com menos Propostas Legislativas de sua autoria')"
            ]
          },
          "execution_count": 39,
          "metadata": {},
          "output_type": "execute_result"
        },
        {
          "data": {
            "image/png": "[encoded data removed]",
            "text/plain": [
              "<Figure size 2160x360 with 1 Axes>"
            ]
          },
          "metadata": {
            "needs_background": "light"
          },
          "output_type": "display_data"
        }
      ],
      "source": [
        "plt.figure(figsize = (30,5))\n",
        "sns.barplot(x = \"Nome e Partido\", y= \"Propostas Legislativas de sua autoria\", data = df_autoria_n1, palette=\"pastel\")\n",
        "plt.xlabel('', fontsize=15)\n",
        "plt.ylabel('Quantidade', fontsize=10)\n",
        "plt.suptitle(\"Deputados com menos Propostas Legislativas de sua autoria\", fontsize=12)"
      ]
    },
    {
      "cell_type": "code",
      "execution_count": null,
      "metadata": {
        "id": "uRyjEnEi4RS8",
        "outputId": "5552e9f0-3868-4b6f-e041-e851276e6e78"
      },
      "outputs": [
        {
          "data": {
            "image/png": "[encoded data removed]",
            "text/plain": [
              "<Figure size 2160x720 with 1 Axes>"
            ]
          },
          "metadata": {
            "needs_background": "light"
          },
          "output_type": "display_data"
        }
      ],
      "source": [
        "plt.figure(figsize = (30,10))\n",
        "ax = sns.boxplot(x=\"partido\", y=\"Propostas Legislativas de sua autoria\", data=df)"
      ]
    },
    {
      "cell_type": "markdown",
      "metadata": {
        "id": "4kw5wDR34RS9"
      },
      "source": [
        "### 3 - 10 deputados com mais Propostas Legislativas relatadas"
      ]
    },
    {
      "cell_type": "code",
      "execution_count": null,
      "metadata": {
        "id": "Axa2z0CJ4RS9",
        "outputId": "6389c9d8-5783-45ce-dd2a-3abc36ce4a3d"
      },
      "outputs": [
        {
          "name": "stdout",
          "output_type": "stream",
          "text": [
            "<class 'pandas.core.frame.DataFrame'>\n",
            "RangeIndex: 513 entries, 0 to 512\n",
            "Data columns (total 2 columns):\n",
            " #   Column                            Non-Null Count  Dtype \n",
            "---  ------                            --------------  ----- \n",
            " 0   Nome e Partido                    513 non-null    object\n",
            " 1   Propostas Legislativas relatadas  513 non-null    int64 \n",
            "dtypes: int64(1), object(1)\n",
            "memory usage: 8.1+ KB\n"
          ]
        }
      ],
      "source": [
        "df2 = pd.DataFrame(df, \n",
        "    columns = ['Nome e Partido','Propostas Legislativas relatadas'])\n",
        "df2.info()"
      ]
    },
    {
      "cell_type": "code",
      "execution_count": null,
      "metadata": {
        "id": "YAKC7wKR4RS-",
        "outputId": "369e340d-5314-46e2-804d-1674905d5c94"
      },
      "outputs": [
        {
          "data": {
            "text/html": [
              "<div>\n",
              "<style scoped>\n",
              "    .dataframe tbody tr th:only-of-type {\n",
              "        vertical-align: middle;\n",
              "    }\n",
              "\n",
              "    .dataframe tbody tr th {\n",
              "        vertical-align: top;\n",
              "    }\n",
              "\n",
              "    .dataframe thead th {\n",
              "        text-align: right;\n",
              "    }\n",
              "</style>\n",
              "<table border=\"1\" class=\"dataframe\">\n",
              "  <thead>\n",
              "    <tr style=\"text-align: right;\">\n",
              "      <th></th>\n",
              "      <th>Nome e Partido</th>\n",
              "      <th>Propostas Legislativas relatadas</th>\n",
              "      <th>Percentual</th>\n",
              "    </tr>\n",
              "  </thead>\n",
              "  <tbody>\n",
              "    <tr>\n",
              "      <th>326</th>\n",
              "      <td>Marcelo Ramos PSD</td>\n",
              "      <td>1385</td>\n",
              "      <td>19.670501</td>\n",
              "    </tr>\n",
              "    <tr>\n",
              "      <th>281</th>\n",
              "      <td>Kim Kataguiri UNIÃO</td>\n",
              "      <td>98</td>\n",
              "      <td>1.391848</td>\n",
              "    </tr>\n",
              "    <tr>\n",
              "      <th>305</th>\n",
              "      <td>Luis Miranda REPUBLICANOS</td>\n",
              "      <td>96</td>\n",
              "      <td>1.363443</td>\n",
              "    </tr>\n",
              "    <tr>\n",
              "      <th>82</th>\n",
              "      <td>Carmen Zanotto CIDADANIA</td>\n",
              "      <td>96</td>\n",
              "      <td>1.363443</td>\n",
              "    </tr>\n",
              "    <tr>\n",
              "      <th>310</th>\n",
              "      <td>Luiz Lima PL</td>\n",
              "      <td>92</td>\n",
              "      <td>1.306633</td>\n",
              "    </tr>\n",
              "    <tr>\n",
              "      <th>130</th>\n",
              "      <td>Diego Garcia REPUBLICANOS</td>\n",
              "      <td>75</td>\n",
              "      <td>1.065190</td>\n",
              "    </tr>\n",
              "    <tr>\n",
              "      <th>335</th>\n",
              "      <td>Marcos Pereira REPUBLICANOS</td>\n",
              "      <td>74</td>\n",
              "      <td>1.050987</td>\n",
              "    </tr>\n",
              "    <tr>\n",
              "      <th>39</th>\n",
              "      <td>Angela Amin PP</td>\n",
              "      <td>65</td>\n",
              "      <td>0.923164</td>\n",
              "    </tr>\n",
              "    <tr>\n",
              "      <th>149</th>\n",
              "      <td>Eduardo Cury PSDB</td>\n",
              "      <td>63</td>\n",
              "      <td>0.894759</td>\n",
              "    </tr>\n",
              "    <tr>\n",
              "      <th>36</th>\n",
              "      <td>André Figueiredo PDT</td>\n",
              "      <td>56</td>\n",
              "      <td>0.795342</td>\n",
              "    </tr>\n",
              "  </tbody>\n",
              "</table>\n",
              "</div>"
            ],
            "text/plain": [
              "                  Nome e Partido  Propostas Legislativas relatadas  Percentual\n",
              "326            Marcelo Ramos PSD                              1385   19.670501\n",
              "281          Kim Kataguiri UNIÃO                                98    1.391848\n",
              "305    Luis Miranda REPUBLICANOS                                96    1.363443\n",
              "82      Carmen Zanotto CIDADANIA                                96    1.363443\n",
              "310                 Luiz Lima PL                                92    1.306633\n",
              "130    Diego Garcia REPUBLICANOS                                75    1.065190\n",
              "335  Marcos Pereira REPUBLICANOS                                74    1.050987\n",
              "39                Angela Amin PP                                65    0.923164\n",
              "149            Eduardo Cury PSDB                                63    0.894759\n",
              "36          André Figueiredo PDT                                56    0.795342"
            ]
          },
          "metadata": {},
          "output_type": "display_data"
        }
      ],
      "source": [
        "df2['Percentual'] = (df2['Propostas Legislativas relatadas'] / \n",
        "                  df2['Propostas Legislativas relatadas'].sum()) * 100\n",
        "df_relatadas = df2.sort_values(by=['Propostas Legislativas relatadas'], ascending=False).head(10).copy()\n",
        "display(df_relatadas)"
      ]
    },
    {
      "cell_type": "code",
      "execution_count": null,
      "metadata": {
        "id": "xI0I8IVr4RS-",
        "outputId": "01467010-db65-415a-a5c0-151ec71c8610"
      },
      "outputs": [
        {
          "data": {
            "text/plain": [
              "29.82530890498509"
            ]
          },
          "execution_count": 43,
          "metadata": {},
          "output_type": "execute_result"
        }
      ],
      "source": [
        "df_relatadas['Percentual'].sum()"
      ]
    },
    {
      "cell_type": "code",
      "execution_count": null,
      "metadata": {
        "id": "dApgb-Wn4RS_",
        "outputId": "5187e3ea-c2f3-49c7-9605-e6d450ec5d86"
      },
      "outputs": [
        {
          "data": {
            "text/plain": [
              "count     513.000000\n",
              "mean       13.725146\n",
              "std        62.345720\n",
              "min         0.000000\n",
              "25%         2.000000\n",
              "50%         6.000000\n",
              "75%        16.000000\n",
              "max      1385.000000\n",
              "Name: Propostas Legislativas relatadas, dtype: float64"
            ]
          },
          "execution_count": 44,
          "metadata": {},
          "output_type": "execute_result"
        }
      ],
      "source": [
        "df2['Propostas Legislativas relatadas'].describe()"
      ]
    },
    {
      "cell_type": "markdown",
      "metadata": {
        "id": "EvGTs58T4RTA"
      },
      "source": [
        "Foi realizado um estudo sobre as propostas legislativas relatas pelos deputados federais no ano de 2021.\\\n",
        "Em média foram relatadas 13 propostas legislativas por deputado.\\\n",
        "25% dos deputados relataram até 2 propostas e 50% relataram até 6 propostas.\\\n",
        "75% relataram até 16 prospostas, sendo que o maior número de propostas criadas foram de 1385, pelo deputado Marcelo Ramos do PSD."
      ]
    },
    {
      "cell_type": "code",
      "execution_count": null,
      "metadata": {
        "id": "PYz1ZKq64RTA",
        "outputId": "8e045bcb-1223-4ac2-d107-53d4631d9910"
      },
      "outputs": [
        {
          "data": {
            "text/plain": [
              "Text(0.5, 0.98, 'Deputados com mais Propostas Legislativas relatadas')"
            ]
          },
          "execution_count": 45,
          "metadata": {},
          "output_type": "execute_result"
        },
        {
          "data": {
            "image/png": "[encoded data removed]",
            "text/plain": [
              "<Figure size 1872x360 with 1 Axes>"
            ]
          },
          "metadata": {
            "needs_background": "light"
          },
          "output_type": "display_data"
        }
      ],
      "source": [
        "plt.figure(figsize = (26,5))\n",
        "sns.barplot(x = \"Nome e Partido\", y= \"Propostas Legislativas relatadas\", data = df_relatadas,  palette=\"pastel\")\n",
        "plt.xlabel('', fontsize=15)\n",
        "plt.ylabel('Quantidade', fontsize=10)\n",
        "plt.suptitle(\"Deputados com mais Propostas Legislativas relatadas\", fontsize=12)"
      ]
    },
    {
      "cell_type": "code",
      "execution_count": null,
      "metadata": {
        "id": "fq4sm3Ni4RTA"
      },
      "outputs": [],
      "source": [
        "df7 = df[df['Propostas Legislativas relatadas']<1000]"
      ]
    },
    {
      "cell_type": "markdown",
      "metadata": {
        "id": "I7XATjKK4RTB"
      },
      "source": [
        "##### Foi retirado da visualização o deputado Marcelo Ramos do PSD, pois o valor de relatorias dele destoava muito dos demais, comprometendo a visualização."
      ]
    },
    {
      "cell_type": "code",
      "execution_count": null,
      "metadata": {
        "id": "PSsX90mb4RTB",
        "outputId": "c9040833-002c-438f-e872-847e1c79bfc8"
      },
      "outputs": [
        {
          "data": {
            "image/png": "[encoded data removed]",
            "text/plain": [
              "<Figure size 2160x720 with 1 Axes>"
            ]
          },
          "metadata": {
            "needs_background": "light"
          },
          "output_type": "display_data"
        }
      ],
      "source": [
        "plt.figure(figsize = (30,10))\n",
        "ax = sns.boxplot(x=\"partido\", y=\"Propostas Legislativas relatadas\", data=df7)"
      ]
    },
    {
      "cell_type": "markdown",
      "metadata": {
        "id": "JTZe8p7-4RTC"
      },
      "source": [
        "### 4 - 10 deputados que menos justificaram as Ausências em plenario"
      ]
    },
    {
      "cell_type": "code",
      "execution_count": null,
      "metadata": {
        "id": "CLbuxlo04RTC",
        "outputId": "6cdfbb19-b65c-4cec-e54f-963038d45fc6"
      },
      "outputs": [
        {
          "name": "stdout",
          "output_type": "stream",
          "text": [
            "<class 'pandas.core.frame.DataFrame'>\n",
            "RangeIndex: 513 entries, 0 to 512\n",
            "Data columns (total 2 columns):\n",
            " #   Column                                  Non-Null Count  Dtype \n",
            "---  ------                                  --------------  ----- \n",
            " 0   Nome e Partido                          513 non-null    object\n",
            " 1   Ausências não justificadas em plenario  513 non-null    int32 \n",
            "dtypes: int32(1), object(1)\n",
            "memory usage: 6.1+ KB\n"
          ]
        }
      ],
      "source": [
        "df3 = pd.DataFrame(df, \n",
        "    columns = ['Nome e Partido','Ausências não justificadas em plenario'])\n",
        "df3.info()"
      ]
    },
    {
      "cell_type": "code",
      "execution_count": null,
      "metadata": {
        "id": "F_kKBXmH4RTC",
        "outputId": "7f62adfb-74c3-4260-d088-af992770ebcc"
      },
      "outputs": [
        {
          "data": {
            "text/html": [
              "<div>\n",
              "<style scoped>\n",
              "    .dataframe tbody tr th:only-of-type {\n",
              "        vertical-align: middle;\n",
              "    }\n",
              "\n",
              "    .dataframe tbody tr th {\n",
              "        vertical-align: top;\n",
              "    }\n",
              "\n",
              "    .dataframe thead th {\n",
              "        text-align: right;\n",
              "    }\n",
              "</style>\n",
              "<table border=\"1\" class=\"dataframe\">\n",
              "  <thead>\n",
              "    <tr style=\"text-align: right;\">\n",
              "      <th></th>\n",
              "      <th>Nome e Partido</th>\n",
              "      <th>Ausências não justificadas em plenario</th>\n",
              "      <th>Percentual</th>\n",
              "    </tr>\n",
              "  </thead>\n",
              "  <tbody>\n",
              "    <tr>\n",
              "      <th>114</th>\n",
              "      <td>Daniel Silveira PTB</td>\n",
              "      <td>52</td>\n",
              "      <td>3.918613</td>\n",
              "    </tr>\n",
              "    <tr>\n",
              "      <th>263</th>\n",
              "      <td>José Priante MDB</td>\n",
              "      <td>39</td>\n",
              "      <td>2.938960</td>\n",
              "    </tr>\n",
              "    <tr>\n",
              "      <th>212</th>\n",
              "      <td>Guilherme Mussi PP</td>\n",
              "      <td>23</td>\n",
              "      <td>1.733233</td>\n",
              "    </tr>\n",
              "    <tr>\n",
              "      <th>278</th>\n",
              "      <td>Junior Lourenço PL</td>\n",
              "      <td>22</td>\n",
              "      <td>1.657875</td>\n",
              "    </tr>\n",
              "    <tr>\n",
              "      <th>233</th>\n",
              "      <td>Igor Kannário UNIÃO</td>\n",
              "      <td>21</td>\n",
              "      <td>1.582517</td>\n",
              "    </tr>\n",
              "    <tr>\n",
              "      <th>152</th>\n",
              "      <td>Elcione Barbalho MDB</td>\n",
              "      <td>16</td>\n",
              "      <td>1.205727</td>\n",
              "    </tr>\n",
              "    <tr>\n",
              "      <th>389</th>\n",
              "      <td>Paulo Abi-Ackel PSDB</td>\n",
              "      <td>15</td>\n",
              "      <td>1.130369</td>\n",
              "    </tr>\n",
              "    <tr>\n",
              "      <th>282</th>\n",
              "      <td>Laercio Oliveira PP</td>\n",
              "      <td>15</td>\n",
              "      <td>1.130369</td>\n",
              "    </tr>\n",
              "    <tr>\n",
              "      <th>467</th>\n",
              "      <td>Silvio Costa Filho REPUBLICANOS</td>\n",
              "      <td>14</td>\n",
              "      <td>1.055011</td>\n",
              "    </tr>\n",
              "    <tr>\n",
              "      <th>137</th>\n",
              "      <td>Dr. Luiz Antonio Teixeira Jr. PP</td>\n",
              "      <td>14</td>\n",
              "      <td>1.055011</td>\n",
              "    </tr>\n",
              "  </tbody>\n",
              "</table>\n",
              "</div>"
            ],
            "text/plain": [
              "                       Nome e Partido  Ausências não justificadas em plenario  \\\n",
              "114               Daniel Silveira PTB                                      52   \n",
              "263                  José Priante MDB                                      39   \n",
              "212                Guilherme Mussi PP                                      23   \n",
              "278                Junior Lourenço PL                                      22   \n",
              "233               Igor Kannário UNIÃO                                      21   \n",
              "152              Elcione Barbalho MDB                                      16   \n",
              "389              Paulo Abi-Ackel PSDB                                      15   \n",
              "282               Laercio Oliveira PP                                      15   \n",
              "467   Silvio Costa Filho REPUBLICANOS                                      14   \n",
              "137  Dr. Luiz Antonio Teixeira Jr. PP                                      14   \n",
              "\n",
              "     Percentual  \n",
              "114    3.918613  \n",
              "263    2.938960  \n",
              "212    1.733233  \n",
              "278    1.657875  \n",
              "233    1.582517  \n",
              "152    1.205727  \n",
              "389    1.130369  \n",
              "282    1.130369  \n",
              "467    1.055011  \n",
              "137    1.055011  "
            ]
          },
          "metadata": {},
          "output_type": "display_data"
        }
      ],
      "source": [
        "df3['Percentual'] = (df3['Ausências não justificadas em plenario'] / \n",
        "                  df3['Ausências não justificadas em plenario'].sum()) * 100\n",
        "df_ausencias = df3.sort_values(by=['Ausências não justificadas em plenario'], ascending=False).head(10).copy()\n",
        "display(df_ausencias)"
      ]
    },
    {
      "cell_type": "code",
      "execution_count": null,
      "metadata": {
        "id": "rnjYO_DC4RTD",
        "outputId": "e01435a2-49c2-4e23-f958-e80755cb1d15"
      },
      "outputs": [
        {
          "data": {
            "text/plain": [
              "17.4076865109269"
            ]
          },
          "execution_count": 50,
          "metadata": {},
          "output_type": "execute_result"
        }
      ],
      "source": [
        "df_ausencias['Percentual'].sum()"
      ]
    },
    {
      "cell_type": "code",
      "execution_count": null,
      "metadata": {
        "id": "Sfo4nxOo4RTD",
        "outputId": "90362a6f-cc82-49d1-f532-69b19ef40dc2"
      },
      "outputs": [
        {
          "data": {
            "text/plain": [
              "count    513.000000\n",
              "mean       2.586745\n",
              "std        4.330666\n",
              "min        0.000000\n",
              "25%        0.000000\n",
              "50%        1.000000\n",
              "75%        3.000000\n",
              "max       52.000000\n",
              "Name: Ausências não justificadas em plenario, dtype: float64"
            ]
          },
          "execution_count": 51,
          "metadata": {},
          "output_type": "execute_result"
        }
      ],
      "source": [
        "df3['Ausências não justificadas em plenario'].describe()"
      ]
    },
    {
      "cell_type": "markdown",
      "metadata": {
        "id": "Yb_D82HJ4RTD"
      },
      "source": [
        "Foi realizado um estudo sobre as ausências não justificadas dos deputados federais no ano de 2021.\\\n",
        "Em média 2 deputados não justificaram a ausência.\\\n",
        "50% das ausências foi de até 1.\\\n",
        "75% das ausências foi de 3, sendo que o maior número de ausências não justificadas são do deputado Daniel Silveira do PTB."
      ]
    },
    {
      "cell_type": "code",
      "execution_count": null,
      "metadata": {
        "id": "7QB2R-044RTE",
        "outputId": "4c53ebc1-ae43-403e-d921-ffb0fd5d4c42"
      },
      "outputs": [
        {
          "data": {
            "image/png": "[encoded data removed]",
            "text/plain": [
              "<Figure size 2160x720 with 1 Axes>"
            ]
          },
          "metadata": {
            "needs_background": "light"
          },
          "output_type": "display_data"
        }
      ],
      "source": [
        "plt.figure(figsize = (30,10))\n",
        "ax = sns.boxplot(x=\"partido\", y=\"Ausências não justificadas em plenario\", data=df)"
      ]
    },
    {
      "cell_type": "code",
      "execution_count": null,
      "metadata": {
        "id": "GsLcekTF4RTE",
        "outputId": "d1734d0a-3df0-4ce7-db77-f4b695478781",
        "colab": {
          "base_uri": "https://localhost:8080/",
          "height": 206
        }
      },
      "outputs": [
        {
          "output_type": "execute_result",
          "data": {
            "text/plain": [
              "     partido  Ausências não justificadas em plenario\n",
              "0     AVANTE                                1.375000\n",
              "1  CIDADANIA                                1.000000\n",
              "2        MDB                                4.771429\n",
              "3       NOVO                                0.250000\n",
              "4   PATRIOTA                                3.000000"
            ],
            "text/html": [
              "\n",
              "  <div id=\"df-ced7aa98-d7a1-487b-950d-5ff4a44930d4\">\n",
              "    <div class=\"colab-df-container\">\n",
              "      <div>\n",
              "<style scoped>\n",
              "    .dataframe tbody tr th:only-of-type {\n",
              "        vertical-align: middle;\n",
              "    }\n",
              "\n",
              "    .dataframe tbody tr th {\n",
              "        vertical-align: top;\n",
              "    }\n",
              "\n",
              "    .dataframe thead th {\n",
              "        text-align: right;\n",
              "    }\n",
              "</style>\n",
              "<table border=\"1\" class=\"dataframe\">\n",
              "  <thead>\n",
              "    <tr style=\"text-align: right;\">\n",
              "      <th></th>\n",
              "      <th>partido</th>\n",
              "      <th>Ausências não justificadas em plenario</th>\n",
              "    </tr>\n",
              "  </thead>\n",
              "  <tbody>\n",
              "    <tr>\n",
              "      <th>0</th>\n",
              "      <td>AVANTE</td>\n",
              "      <td>1.375000</td>\n",
              "    </tr>\n",
              "    <tr>\n",
              "      <th>1</th>\n",
              "      <td>CIDADANIA</td>\n",
              "      <td>1.000000</td>\n",
              "    </tr>\n",
              "    <tr>\n",
              "      <th>2</th>\n",
              "      <td>MDB</td>\n",
              "      <td>4.771429</td>\n",
              "    </tr>\n",
              "    <tr>\n",
              "      <th>3</th>\n",
              "      <td>NOVO</td>\n",
              "      <td>0.250000</td>\n",
              "    </tr>\n",
              "    <tr>\n",
              "      <th>4</th>\n",
              "      <td>PATRIOTA</td>\n",
              "      <td>3.000000</td>\n",
              "    </tr>\n",
              "  </tbody>\n",
              "</table>\n",
              "</div>\n",
              "      <button class=\"colab-df-convert\" onclick=\"convertToInteractive('df-ced7aa98-d7a1-487b-950d-5ff4a44930d4')\"\n",
              "              title=\"Convert this dataframe to an interactive table.\"\n",
              "              style=\"display:none;\">\n",
              "        \n",
              "  <svg xmlns=\"http://www.w3.org/2000/svg\" height=\"24px\"viewBox=\"0 0 24 24\"\n",
              "       width=\"24px\">\n",
              "    <path d=\"M0 0h24v24H0V0z\" fill=\"none\"/>\n",
              "    <path d=\"M18.56 5.44l.94 2.06.94-2.06 2.06-.94-2.06-.94-.94-2.06-.94 2.06-2.06.94zm-11 1L8.5 8.5l.94-2.06 2.06-.94-2.06-.94L8.5 2.5l-.94 2.06-2.06.94zm10 10l.94 2.06.94-2.06 2.06-.94-2.06-.94-.94-2.06-.94 2.06-2.06.94z\"/><path d=\"M17.41 7.96l-1.37-1.37c-.4-.4-.92-.59-1.43-.59-.52 0-1.04.2-1.43.59L10.3 9.45l-7.72 7.72c-.78.78-.78 2.05 0 2.83L4 21.41c.39.39.9.59 1.41.59.51 0 1.02-.2 1.41-.59l7.78-7.78 2.81-2.81c.8-.78.8-2.07 0-2.86zM5.41 20L4 18.59l7.72-7.72 1.47 1.35L5.41 20z\"/>\n",
              "  </svg>\n",
              "      </button>\n",
              "      \n",
              "  <style>\n",
              "    .colab-df-container {\n",
              "      display:flex;\n",
              "      flex-wrap:wrap;\n",
              "      gap: 12px;\n",
              "    }\n",
              "\n",
              "    .colab-df-convert {\n",
              "      background-color: #E8F0FE;\n",
              "      border: none;\n",
              "      border-radius: 50%;\n",
              "      cursor: pointer;\n",
              "      display: none;\n",
              "      fill: #1967D2;\n",
              "      height: 32px;\n",
              "      padding: 0 0 0 0;\n",
              "      width: 32px;\n",
              "    }\n",
              "\n",
              "    .colab-df-convert:hover {\n",
              "      background-color: #E2EBFA;\n",
              "      box-shadow: 0px 1px 2px rgba(60, 64, 67, 0.3), 0px 1px 3px 1px rgba(60, 64, 67, 0.15);\n",
              "      fill: #174EA6;\n",
              "    }\n",
              "\n",
              "    [theme=dark] .colab-df-convert {\n",
              "      background-color: #3B4455;\n",
              "      fill: #D2E3FC;\n",
              "    }\n",
              "\n",
              "    [theme=dark] .colab-df-convert:hover {\n",
              "      background-color: #434B5C;\n",
              "      box-shadow: 0px 1px 3px 1px rgba(0, 0, 0, 0.15);\n",
              "      filter: drop-shadow(0px 1px 2px rgba(0, 0, 0, 0.3));\n",
              "      fill: #FFFFFF;\n",
              "    }\n",
              "  </style>\n",
              "\n",
              "      <script>\n",
              "        const buttonEl =\n",
              "          document.querySelector('#df-ced7aa98-d7a1-487b-950d-5ff4a44930d4 button.colab-df-convert');\n",
              "        buttonEl.style.display =\n",
              "          google.colab.kernel.accessAllowed ? 'block' : 'none';\n",
              "\n",
              "        async function convertToInteractive(key) {\n",
              "          const element = document.querySelector('#df-ced7aa98-d7a1-487b-950d-5ff4a44930d4');\n",
              "          const dataTable =\n",
              "            await google.colab.kernel.invokeFunction('convertToInteractive',\n",
              "                                                     [key], {});\n",
              "          if (!dataTable) return;\n",
              "\n",
              "          const docLinkHtml = 'Like what you see? Visit the ' +\n",
              "            '<a target=\"_blank\" href=https://colab.research.google.com/notebooks/data_table.ipynb>data table notebook</a>'\n",
              "            + ' to learn more about interactive tables.';\n",
              "          element.innerHTML = '';\n",
              "          dataTable['output_type'] = 'display_data';\n",
              "          await google.colab.output.renderOutput(dataTable, element);\n",
              "          const docLink = document.createElement('div');\n",
              "          docLink.innerHTML = docLinkHtml;\n",
              "          element.appendChild(docLink);\n",
              "        }\n",
              "      </script>\n",
              "    </div>\n",
              "  </div>\n",
              "  "
            ]
          },
          "metadata": {},
          "execution_count": 54
        }
      ],
      "source": [
        "ausencia = pd.DataFrame(df.groupby('partido')['Ausências não justificadas em plenario'].mean()).reset_index()\n",
        "df_partido = ausencia['partido'].value_counts() \n",
        "ausencia.head()"
      ]
    },
    {
      "cell_type": "code",
      "execution_count": null,
      "metadata": {
        "id": "7MY4zap44RTF",
        "outputId": "963ff56f-a8b4-4544-f242-c874ea30c00e",
        "colab": {
          "base_uri": "https://localhost:8080/",
          "height": 343
        }
      },
      "outputs": [
        {
          "output_type": "execute_result",
          "data": {
            "text/plain": [
              "Text(0.5, 0.98, '10 deputados que menos justificaram as ausências em plenário')"
            ]
          },
          "metadata": {},
          "execution_count": 63
        },
        {
          "output_type": "display_data",
          "data": {
            "text/plain": [
              "<Figure size 2016x432 with 1 Axes>"
            ],
            "image/png": "[encoded data removed]"
          },
          "metadata": {}
        }
      ],
      "source": [
        "plt.figure(figsize = (28,6))\n",
        "sns.barplot(x = \"partido\", y= \"Ausências não justificadas em plenario\", data = ausencia, palette=\"pastel\")\n",
        "plt.xlabel('', fontsize=15)\n",
        "plt.ylabel('Quantidade', fontsize=10)\n",
        "plt.suptitle(\"10 deputados que menos justificaram as ausências em plenário\", fontsize=12)"
      ]
    },
    {
      "cell_type": "markdown",
      "source": [
        "#### Relação entre Propostas Legislativas Relatadas e Propostas Legislativa de autoria. Por partido."
      ],
      "metadata": {
        "id": "FfUOYvTV5GNZ"
      }
    },
    {
      "cell_type": "code",
      "execution_count": null,
      "metadata": {
        "id": "yy2yDso14RTF",
        "outputId": "a5b10dc9-d380-4f1a-8dd0-6e45f7baa7c5",
        "colab": {
          "base_uri": "https://localhost:8080/",
          "height": 261
        }
      },
      "outputs": [
        {
          "output_type": "stream",
          "name": "stderr",
          "text": [
            "/usr/local/lib/python3.7/dist-packages/ipykernel_launcher.py:1: FutureWarning: Indexing with multiple keys (implicitly converted to a tuple of keys) will be deprecated, use a list instead.\n",
            "  \"\"\"Entry point for launching an IPython kernel.\n"
          ]
        },
        {
          "output_type": "execute_result",
          "data": {
            "text/plain": [
              "     partido  Propostas Legislativas relatadas  \\\n",
              "0     AVANTE                                33   \n",
              "1  CIDADANIA                               146   \n",
              "2        MDB                               172   \n",
              "3       NOVO                               152   \n",
              "4   PATRIOTA                                38   \n",
              "\n",
              "   Propostas Legislativas de sua autoria  \n",
              "0                                    603  \n",
              "1                                   1068  \n",
              "2                                   1669  \n",
              "3                                   1378  \n",
              "4                                    286  "
            ],
            "text/html": [
              "\n",
              "  <div id=\"df-a457a4e1-2820-4db1-a2dc-b6d9b2bd8869\">\n",
              "    <div class=\"colab-df-container\">\n",
              "      <div>\n",
              "<style scoped>\n",
              "    .dataframe tbody tr th:only-of-type {\n",
              "        vertical-align: middle;\n",
              "    }\n",
              "\n",
              "    .dataframe tbody tr th {\n",
              "        vertical-align: top;\n",
              "    }\n",
              "\n",
              "    .dataframe thead th {\n",
              "        text-align: right;\n",
              "    }\n",
              "</style>\n",
              "<table border=\"1\" class=\"dataframe\">\n",
              "  <thead>\n",
              "    <tr style=\"text-align: right;\">\n",
              "      <th></th>\n",
              "      <th>partido</th>\n",
              "      <th>Propostas Legislativas relatadas</th>\n",
              "      <th>Propostas Legislativas de sua autoria</th>\n",
              "    </tr>\n",
              "  </thead>\n",
              "  <tbody>\n",
              "    <tr>\n",
              "      <th>0</th>\n",
              "      <td>AVANTE</td>\n",
              "      <td>33</td>\n",
              "      <td>603</td>\n",
              "    </tr>\n",
              "    <tr>\n",
              "      <th>1</th>\n",
              "      <td>CIDADANIA</td>\n",
              "      <td>146</td>\n",
              "      <td>1068</td>\n",
              "    </tr>\n",
              "    <tr>\n",
              "      <th>2</th>\n",
              "      <td>MDB</td>\n",
              "      <td>172</td>\n",
              "      <td>1669</td>\n",
              "    </tr>\n",
              "    <tr>\n",
              "      <th>3</th>\n",
              "      <td>NOVO</td>\n",
              "      <td>152</td>\n",
              "      <td>1378</td>\n",
              "    </tr>\n",
              "    <tr>\n",
              "      <th>4</th>\n",
              "      <td>PATRIOTA</td>\n",
              "      <td>38</td>\n",
              "      <td>286</td>\n",
              "    </tr>\n",
              "  </tbody>\n",
              "</table>\n",
              "</div>\n",
              "      <button class=\"colab-df-convert\" onclick=\"convertToInteractive('df-a457a4e1-2820-4db1-a2dc-b6d9b2bd8869')\"\n",
              "              title=\"Convert this dataframe to an interactive table.\"\n",
              "              style=\"display:none;\">\n",
              "        \n",
              "  <svg xmlns=\"http://www.w3.org/2000/svg\" height=\"24px\"viewBox=\"0 0 24 24\"\n",
              "       width=\"24px\">\n",
              "    <path d=\"M0 0h24v24H0V0z\" fill=\"none\"/>\n",
              "    <path d=\"M18.56 5.44l.94 2.06.94-2.06 2.06-.94-2.06-.94-.94-2.06-.94 2.06-2.06.94zm-11 1L8.5 8.5l.94-2.06 2.06-.94-2.06-.94L8.5 2.5l-.94 2.06-2.06.94zm10 10l.94 2.06.94-2.06 2.06-.94-2.06-.94-.94-2.06-.94 2.06-2.06.94z\"/><path d=\"M17.41 7.96l-1.37-1.37c-.4-.4-.92-.59-1.43-.59-.52 0-1.04.2-1.43.59L10.3 9.45l-7.72 7.72c-.78.78-.78 2.05 0 2.83L4 21.41c.39.39.9.59 1.41.59.51 0 1.02-.2 1.41-.59l7.78-7.78 2.81-2.81c.8-.78.8-2.07 0-2.86zM5.41 20L4 18.59l7.72-7.72 1.47 1.35L5.41 20z\"/>\n",
              "  </svg>\n",
              "      </button>\n",
              "      \n",
              "  <style>\n",
              "    .colab-df-container {\n",
              "      display:flex;\n",
              "      flex-wrap:wrap;\n",
              "      gap: 12px;\n",
              "    }\n",
              "\n",
              "    .colab-df-convert {\n",
              "      background-color: #E8F0FE;\n",
              "      border: none;\n",
              "      border-radius: 50%;\n",
              "      cursor: pointer;\n",
              "      display: none;\n",
              "      fill: #1967D2;\n",
              "      height: 32px;\n",
              "      padding: 0 0 0 0;\n",
              "      width: 32px;\n",
              "    }\n",
              "\n",
              "    .colab-df-convert:hover {\n",
              "      background-color: #E2EBFA;\n",
              "      box-shadow: 0px 1px 2px rgba(60, 64, 67, 0.3), 0px 1px 3px 1px rgba(60, 64, 67, 0.15);\n",
              "      fill: #174EA6;\n",
              "    }\n",
              "\n",
              "    [theme=dark] .colab-df-convert {\n",
              "      background-color: #3B4455;\n",
              "      fill: #D2E3FC;\n",
              "    }\n",
              "\n",
              "    [theme=dark] .colab-df-convert:hover {\n",
              "      background-color: #434B5C;\n",
              "      box-shadow: 0px 1px 3px 1px rgba(0, 0, 0, 0.15);\n",
              "      filter: drop-shadow(0px 1px 2px rgba(0, 0, 0, 0.3));\n",
              "      fill: #FFFFFF;\n",
              "    }\n",
              "  </style>\n",
              "\n",
              "      <script>\n",
              "        const buttonEl =\n",
              "          document.querySelector('#df-a457a4e1-2820-4db1-a2dc-b6d9b2bd8869 button.colab-df-convert');\n",
              "        buttonEl.style.display =\n",
              "          google.colab.kernel.accessAllowed ? 'block' : 'none';\n",
              "\n",
              "        async function convertToInteractive(key) {\n",
              "          const element = document.querySelector('#df-a457a4e1-2820-4db1-a2dc-b6d9b2bd8869');\n",
              "          const dataTable =\n",
              "            await google.colab.kernel.invokeFunction('convertToInteractive',\n",
              "                                                     [key], {});\n",
              "          if (!dataTable) return;\n",
              "\n",
              "          const docLinkHtml = 'Like what you see? Visit the ' +\n",
              "            '<a target=\"_blank\" href=https://colab.research.google.com/notebooks/data_table.ipynb>data table notebook</a>'\n",
              "            + ' to learn more about interactive tables.';\n",
              "          element.innerHTML = '';\n",
              "          dataTable['output_type'] = 'display_data';\n",
              "          await google.colab.output.renderOutput(dataTable, element);\n",
              "          const docLink = document.createElement('div');\n",
              "          docLink.innerHTML = docLinkHtml;\n",
              "          element.appendChild(docLink);\n",
              "        }\n",
              "      </script>\n",
              "    </div>\n",
              "  </div>\n",
              "  "
            ]
          },
          "metadata": {},
          "execution_count": 10
        }
      ],
      "source": [
        "pontos = pd.DataFrame(df.groupby('partido')['Propostas Legislativas relatadas','Propostas Legislativas de sua autoria'].sum()).reset_index()\n",
        "pontos.head()"
      ]
    },
    {
      "cell_type": "code",
      "source": [
        "colors = sns.color_palette(['#f15a22', '#ef127d', '#1fef12', '#ef8712', '#1215ef', '#efe812', '#020346', '#cc18bc', \n",
        "                            '#18ccae', '#1191a5', '#a57d11', '#443305', '#054408', '#0e0544', '#69ad06', '#e52a10', \n",
        "                            '#060303', '#00ff51', '#8ff0ff', '#500b25', '#33ecc5', '#eddb74', '#3A0B5F'])"
      ],
      "metadata": {
        "id": "8GlkW50LvIIL"
      },
      "execution_count": null,
      "outputs": []
    },
    {
      "cell_type": "code",
      "execution_count": null,
      "metadata": {
        "id": "KCypW6Y94RTG",
        "outputId": "f1af5587-ca3b-4acb-928a-2dfe4899554d",
        "colab": {
          "base_uri": "https://localhost:8080/",
          "height": 513
        }
      },
      "outputs": [
        {
          "output_type": "display_data",
          "data": {
            "text/plain": [
              "<Figure size 936x504 with 1 Axes>"
            ],
            "image/png": "[encoded data removed]"
          },
          "metadata": {}
        }
      ],
      "source": [
        "plt.figure(figsize=(13,7))\n",
        "ax = sns.scatterplot(x='Propostas Legislativas relatadas', y='Propostas Legislativas de sua autoria',s=75,data=pontos, hue='partido', palette=colors)\n",
        "sns.set_style(\"whitegrid\")\n",
        "plt.legend(bbox_to_anchor=(1.0,1),borderaxespad=0, loc = 2)\n",
        "plt.tight_layout()"
      ]
    },
    {
      "cell_type": "markdown",
      "metadata": {
        "id": "OypHZn444RTG"
      },
      "source": [
        "#### 8 - Quais os maiores partidos de 2019 a 2022."
      ]
    },
    {
      "cell_type": "code",
      "execution_count": null,
      "metadata": {
        "colab": {
          "base_uri": "https://localhost:8080/",
          "height": 183
        },
        "id": "Tn-hIzBG4RTH",
        "outputId": "b5abea62-468e-44b0-9db8-35365a74f6fb"
      },
      "outputs": [
        {
          "output_type": "error",
          "ename": "NameError",
          "evalue": "ignored",
          "traceback": [
            "\u001b[0;31m---------------------------------------------------------------------------\u001b[0m",
            "\u001b[0;31mNameError\u001b[0m                                 Traceback (most recent call last)",
            "\u001b[0;32m<ipython-input-1-5eb09d80de8f>\u001b[0m in \u001b[0;36m<module>\u001b[0;34m()\u001b[0m\n\u001b[0;32m----> 1\u001b[0;31m \u001b[0mdf_partido\u001b[0m \u001b[0;34m=\u001b[0m \u001b[0mdf\u001b[0m\u001b[0;34m[\u001b[0m\u001b[0;34m'partido'\u001b[0m\u001b[0;34m]\u001b[0m\u001b[0;34m.\u001b[0m\u001b[0mvalue_counts\u001b[0m\u001b[0;34m(\u001b[0m\u001b[0;34m)\u001b[0m\u001b[0;34m\u001b[0m\u001b[0;34m\u001b[0m\u001b[0m\n\u001b[0m\u001b[1;32m      2\u001b[0m \u001b[0mprint\u001b[0m\u001b[0;34m(\u001b[0m\u001b[0mdf_partido\u001b[0m\u001b[0;34m)\u001b[0m\u001b[0;34m\u001b[0m\u001b[0;34m\u001b[0m\u001b[0m\n",
            "\u001b[0;31mNameError\u001b[0m: name 'df' is not defined"
          ]
        }
      ],
      "source": [
        "df_partido = df['partido'].value_counts() \n",
        "print(df_partido)"
      ]
    },
    {
      "cell_type": "code",
      "execution_count": null,
      "metadata": {
        "id": "DekfV_xD4RTH"
      },
      "outputs": [],
      "source": [
        "sns.catplot(x=\"partido\", kind=\"count\",palette = \"pastel\", order=df_partido.index, aspect=5,data = df)\n",
        "plt.xlabel('', fontsize=15)\n",
        "plt.ylabel('Quantidade', fontsize=10)\n",
        "plt.suptitle(\"Partido dos Deputados\", fontsize=12)"
      ]
    }
  ],
  "metadata": {
    "interpreter": {
      "hash": "b9042f73efc625a7221879088d5f8b3648a95da0392f04fdb4476149b05e9c7d"
    },
    "kernelspec": {
      "display_name": "Python 3.10.2 64-bit",
      "language": "python",
      "name": "python3"
    },
    "language_info": {
      "codemirror_mode": {
        "name": "ipython",
        "version": 3
      },
      "file_extension": ".py",
      "mimetype": "text/x-python",
      "name": "python",
      "nbconvert_exporter": "python",
      "pygments_lexer": "ipython3",
      "version": "3.10.2"
    },
    "orig_nbformat": 4,
    "colab": {
      "name": "atuacao_deputados_2021_git.ipynb",
      "provenance": [],
      "collapsed_sections": []
    }
  },
  "nbformat": 4,
  "nbformat_minor": 0
}